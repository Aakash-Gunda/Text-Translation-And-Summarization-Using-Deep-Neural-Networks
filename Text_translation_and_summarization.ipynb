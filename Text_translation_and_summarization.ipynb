{
  "cells": [
    {
      "cell_type": "markdown",
      "metadata": {
        "id": "V9OGf-nXDszU"
      },
      "source": [
        "#**Text Translation And Summarization Using Deep Neural Networks**\n",
        "### Introduction\n",
        "\n",
        "In this notebook, we will see how to translate a given article in French to English and then summarize it. We have initially used an attention model for text translation to convert the sorce data which is in french into english. For text summarization we have used a hybrid model with extractive and abstractive summarizer models. The objective of the extractive summarizer is to reduce the size of the input text by only considering the important sentences in the text. The output from the extractive model is given to the abstractive model which is an encoder decoder neural network model. This model gives us the final summary which is evaluated against the predicted summary using Bleu and Rouge metrics."
      ]
    },
    {
      "cell_type": "markdown",
      "metadata": {
        "id": "5C1EDU5aFnTJ"
      },
      "source": [
        "### Import the required Libraries\n",
        "Out first objective for this is to load the required libraries"
      ]
    },
    {
      "cell_type": "code",
      "execution_count": null,
      "metadata": {
        "colab": {
          "base_uri": "https://localhost:8080/"
        },
        "id": "NoaUEhVBTt2g",
        "outputId": "57ccd363-ab95-4a32-fe4a-43dce205daaa"
      },
      "outputs": [
        {
          "output_type": "stream",
          "name": "stdout",
          "text": [
            "Requirement already satisfied: contractions in /usr/local/lib/python3.7/dist-packages (0.0.58)\n",
            "Requirement already satisfied: textsearch>=0.0.21 in /usr/local/lib/python3.7/dist-packages (from contractions) (0.0.21)\n",
            "Requirement already satisfied: anyascii in /usr/local/lib/python3.7/dist-packages (from textsearch>=0.0.21->contractions) (0.3.0)\n",
            "Requirement already satisfied: pyahocorasick in /usr/local/lib/python3.7/dist-packages (from textsearch>=0.0.21->contractions) (1.4.2)\n",
            "Requirement already satisfied: rouge_score in /usr/local/lib/python3.7/dist-packages (0.0.4)\n",
            "Requirement already satisfied: six>=1.14.0 in /usr/local/lib/python3.7/dist-packages (from rouge_score) (1.15.0)\n",
            "Requirement already satisfied: absl-py in /usr/local/lib/python3.7/dist-packages (from rouge_score) (0.12.0)\n",
            "Requirement already satisfied: numpy in /usr/local/lib/python3.7/dist-packages (from rouge_score) (1.19.5)\n",
            "Requirement already satisfied: nltk in /usr/local/lib/python3.7/dist-packages (from rouge_score) (3.2.5)\n",
            "[nltk_data] Downloading package punkt to /root/nltk_data...\n",
            "[nltk_data]   Package punkt is already up-to-date!\n",
            "[nltk_data] Downloading package stopwords to /root/nltk_data...\n",
            "[nltk_data]   Package stopwords is already up-to-date!\n"
          ]
        }
      ],
      "source": [
        "!pip install contractions\n",
        "\n",
        "import pandas as pd \n",
        "import tensorflow as tf\n",
        "from tensorflow.keras import Input, Model\n",
        "from tensorflow.keras.preprocessing.text import Tokenizer\n",
        "from tensorflow.keras.preprocessing.sequence import pad_sequences\n",
        "from tensorflow.keras.callbacks import EarlyStopping, ReduceLROnPlateau\n",
        "from tensorflow.keras.layers import LSTM, Bidirectional, Dense, Embedding, TimeDistributed\n",
        "\n",
        "import matplotlib.pyplot as plt\n",
        "from sklearn.model_selection import train_test_split\n",
        "\n",
        "import os\n",
        "import unicodedata\n",
        "import re\n",
        "import numpy as np\n",
        "import time\n",
        "import string\n",
        "import math\n",
        "\n",
        "import nltk\n",
        "from nltk.tokenize import sent_tokenize\n",
        "from nltk.corpus import stopwords\n",
        "import networkx as nx\n",
        "nltk.download('punkt')\n",
        "nltk.download('stopwords')\n",
        "\n",
        "# Rouge and Bleu metrics are used for evaluating the models\n",
        "!pip install rouge_score\n",
        "import scipy.stats\n",
        "import seaborn as sns\n",
        "from rouge_score import rouge_scorer\n",
        "from nltk.translate.bleu_score import sentence_bleu\n",
        "\n",
        "# To ignore the warning messages because of changes in libraries\n",
        "import warnings\n",
        "warnings.filterwarnings('ignore')"
      ]
    },
    {
      "cell_type": "markdown",
      "metadata": {
        "id": "KwsnuAyRIpEu"
      },
      "source": [
        "### Enabling and testing the GPU\n",
        "\n",
        "First, you'll need to enable GPU for the notebook:\n",
        "\n",
        "\n",
        "*   Navigate to Edit→Notebook Settings\n",
        "*   select GPU from the Hardware Accelerator drop-down\n",
        "\n",
        "Next, we'll confirm that we can connect to the GPU with tensorflow:"
      ]
    },
    {
      "cell_type": "code",
      "source": [
        "from tensorflow.python.client import device_lib\n",
        "print(device_lib.list_local_devices())"
      ],
      "metadata": {
        "id": "dhqDUmFUwNFh",
        "colab": {
          "base_uri": "https://localhost:8080/"
        },
        "outputId": "fbcefce2-b359-40f6-daf1-d1e73f527c39"
      },
      "execution_count": null,
      "outputs": [
        {
          "output_type": "stream",
          "name": "stdout",
          "text": [
            "[name: \"/device:CPU:0\"\n",
            "device_type: \"CPU\"\n",
            "memory_limit: 268435456\n",
            "locality {\n",
            "}\n",
            "incarnation: 119623918040705464\n",
            "xla_global_id: -1\n",
            ", name: \"/device:GPU:0\"\n",
            "device_type: \"GPU\"\n",
            "memory_limit: 11320098816\n",
            "locality {\n",
            "  bus_id: 1\n",
            "  links {\n",
            "  }\n",
            "}\n",
            "incarnation: 8444827131927327348\n",
            "physical_device_desc: \"device: 0, name: Tesla K80, pci bus id: 0000:00:04.0, compute capability: 3.7\"\n",
            "xla_global_id: 416903419\n",
            "]\n"
          ]
        }
      ]
    },
    {
      "cell_type": "markdown",
      "source": [
        "### Define the distribution strategy\n",
        "\n",
        "Create a MirroredStrategy object. This will handle distribution and provide a context manager (MirroredStrategy.scope) to build our model inside. Access to faster GPUs and TPUs means you spend less time waiting while your code is running. "
      ],
      "metadata": {
        "id": "bVIPaqRSbEM4"
      }
    },
    {
      "cell_type": "code",
      "execution_count": null,
      "metadata": {
        "colab": {
          "base_uri": "https://localhost:8080/"
        },
        "id": "VKXiSGyacj3F",
        "outputId": "6406d9ba-8745-4b8d-eb62-6c9cded42d02"
      },
      "outputs": [
        {
          "output_type": "stream",
          "name": "stdout",
          "text": [
            "INFO:tensorflow:Using MirroredStrategy with devices ('/job:localhost/replica:0/task:0/device:GPU:0',)\n"
          ]
        }
      ],
      "source": [
        "strategy = tf.distribute.MirroredStrategy()"
      ]
    },
    {
      "cell_type": "markdown",
      "metadata": {
        "id": "lPK4pCHhJDhZ"
      },
      "source": [
        "### Mounting google drive and saving all checkpoints\n",
        "\n",
        "We have stored some information which are loaded everytime we need to run the code in our drive (these files too are updated in the github). The training checckpoints are stored incase there is a timeout and the model stops running. Also we wanted to spped up the process if we need to test the model with a few changes. Glove for embedding is also stored in the drive. We have also mentioned an alternative which downloads it in the current session."
      ]
    },
    {
      "cell_type": "code",
      "execution_count": null,
      "metadata": {
        "colab": {
          "base_uri": "https://localhost:8080/"
        },
        "id": "qo1OlBmTVlD2",
        "outputId": "003690c1-f4e6-4a03-acdf-36f4cbe88133"
      },
      "outputs": [
        {
          "output_type": "stream",
          "name": "stdout",
          "text": [
            "Drive already mounted at /content/drive; to attempt to forcibly remount, call drive.mount(\"/content/drive\", force_remount=True).\n"
          ]
        }
      ],
      "source": [
        "from google.colab import drive\n",
        "drive.mount('/content/drive')\n",
        "\n",
        "checkpoint_dir_translate = './drive/MyDrive/training_checkpoints'\n",
        "checkpoint_prefix_translate = os.path.join(checkpoint_dir_translate, \"ckpt\")"
      ]
    },
    {
      "cell_type": "markdown",
      "metadata": {
        "id": "MPraiIX_F1Zf"
      },
      "source": [
        "### Expanding contractions\n",
        "\n",
        "Contractions are words or combinations of words that are shortened by dropping letters and replacing them by an apostrophe. Nowadays, where everything is shifting online, we communicate with others more through text messages or posts on different social media like Facebook, Instagram, Whatsapp, Twitter, LinkedIn, etc. in the form of texts. With so many people to talk, we rely on abbreviations and shortened form of words for texting people."
      ]
    },
    {
      "cell_type": "code",
      "execution_count": null,
      "metadata": {
        "id": "OBYOJmKSfmuw"
      },
      "outputs": [],
      "source": [
        "from contractions import contractions_dict\n",
        "\n",
        "def expand_contractions(text, contraction_map=contractions_dict):\n",
        "    # Using regex for getting all contracted words\n",
        "    contractions_keys = '|'.join(contraction_map.keys())\n",
        "    contractions_pattern = re.compile(f'({contractions_keys})', flags=re.DOTALL)\n",
        "\n",
        "    def expand_match(contraction):\n",
        "        # Getting entire matched sub-string\n",
        "        match = contraction.group(0)\n",
        "        expanded_contraction = contraction_map.get(match)\n",
        "        if not expand_contractions:\n",
        "            print(match)\n",
        "            return match\n",
        "        return expanded_contraction\n",
        "\n",
        "    expanded_text = contractions_pattern.sub(expand_match, text)\n",
        "    expanded_text = re.sub(\"'\", \"\", expanded_text)\n",
        "    return expanded_text"
      ]
    },
    {
      "cell_type": "markdown",
      "metadata": {
        "id": "0ZzRZslDGLJL"
      },
      "source": [
        "### Removing punctuations\n",
        "\n",
        "The punctuations present in the text do not add value to the data. The punctuation, when attached to any word, will create a problem in differentiating with other words."
      ]
    },
    {
      "cell_type": "code",
      "execution_count": null,
      "metadata": {
        "id": "s-tOg3c-eiC7"
      },
      "outputs": [],
      "source": [
        "def rm_punc_from_word(word):\n",
        "    clean_alphabet_list = [\n",
        "        alphabet for alphabet in word if alphabet not in string.punctuation\n",
        "    ]\n",
        "    return ''.join(clean_alphabet_list)\n",
        "\n",
        "# Remove puncuation from text\n",
        "def rm_punc_from_text(text):\n",
        "    clean_word_list = [rm_punc_from_word(word) for word in text]\n",
        "    return ''.join(clean_word_list)\n"
      ]
    },
    {
      "cell_type": "markdown",
      "metadata": {
        "id": "WLvUuhOrGN6f"
      },
      "source": [
        "### Removing numbers\n",
        "\n",
        "Similar to punctuation numbers are also not as important so we remove them to make the computation easier."
      ]
    },
    {
      "cell_type": "code",
      "execution_count": null,
      "metadata": {
        "id": "32Ty4y3KeiK6"
      },
      "outputs": [],
      "source": [
        "def rm_number_from_text(text):\n",
        "    text = re.sub('[0-9]+', '', text)\n",
        "    return ' '.join(text.split())  "
      ]
    },
    {
      "cell_type": "markdown",
      "metadata": {
        "id": "jkSZiui9GRux"
      },
      "source": [
        "### Removing stop words\n",
        "\n",
        "Stopwords include: I, he, she, and, but, was were, being, have, etc, which do not add meaning to the data. So these words must be removed which helps to reduce the features from our data."
      ]
    },
    {
      "cell_type": "code",
      "execution_count": null,
      "metadata": {
        "id": "RcB6SFboeiUX"
      },
      "outputs": [],
      "source": [
        "def rm_stopwords_from_text(text):\n",
        "    _stopwords = stopwords.words('english')\n",
        "    text = text.split()\n",
        "    word_list = [word for word in text if word not in _stopwords]\n",
        "    return ' '.join(word_list)"
      ]
    },
    {
      "cell_type": "markdown",
      "metadata": {
        "id": "flKtKARrGUt6"
      },
      "source": [
        "### Text cleaning\n",
        "\n",
        "We will perform the below preprocessing tasks for our data:\n",
        "\n",
        "*   Convert everything to lowercase\n",
        "*   Remove HTML tags\n",
        "*   Contraction mapping\n",
        "*   Remove (‘s)\n",
        "*   Remove any text inside the parenthesis ( )\n",
        "*   Eliminate punctuations and special characters\n",
        "*   Remove stopwords\n",
        "*   Remove short words"
      ]
    },
    {
      "cell_type": "code",
      "execution_count": null,
      "metadata": {
        "id": "JnHrfoN0egRW"
      },
      "outputs": [],
      "source": [
        "def clean_text(text):\n",
        "    text = text.lower()\n",
        "    text = rm_punc_from_text(text)\n",
        "    text = rm_number_from_text(text)\n",
        "    text = rm_stopwords_from_text(text)\n",
        "\n",
        "    # there are hyphen(–) in many titles, so replacing it with empty str\n",
        "    text = re.sub('–', '', text)\n",
        "    text = ' '.join(text.split())  # removing extra white spaces\n",
        "\n",
        "    # Removing unnecessary characters from text\n",
        "    text = re.sub(\"(\\\\t)\", ' ', str(text)).lower()\n",
        "    text = re.sub(\"(\\\\r)\", ' ', str(text)).lower()\n",
        "    text = re.sub(\"(\\\\n)\", ' ', str(text)).lower()\n",
        "\n",
        "    # remove accented chars ('Sómě Áccěntěd těxt' => 'Some Accented text')\n",
        "    text = unicodedata.normalize('NFKD', text).encode('ascii', 'ignore').decode(\n",
        "        'utf-8', 'ignore'\n",
        "    )\n",
        "\n",
        "    text = re.sub(\"(__+)\", ' ', str(text)).lower()\n",
        "    text = re.sub(\"(--+)\", ' ', str(text)).lower()\n",
        "    text = re.sub(\"(~~+)\", ' ', str(text)).lower()\n",
        "    text = re.sub(\"(\\+\\++)\", ' ', str(text)).lower()\n",
        "    text = re.sub(\"(\\.\\.+)\", ' ', str(text)).lower()\n",
        "\n",
        "    text = re.sub(r\"[<>()|&©ø\\[\\]\\'\\\",;?~*!]\", ' ', str(text)).lower()\n",
        "\n",
        "    text = re.sub(\"(mailto:)\", ' ', str(text)).lower()\n",
        "    text = re.sub(r\"(\\\\x9\\d)\", ' ', str(text)).lower()\n",
        "    text = re.sub(\"([iI][nN][cC]\\d+)\", 'INC_NUM', str(text)).lower()\n",
        "    text = re.sub(\"([cC][mM]\\d+)|([cC][hH][gG]\\d+)\", 'CM_NUM',\n",
        "                  str(text)).lower()\n",
        "\n",
        "    text = re.sub(\"(\\.\\s+)\", ' ', str(text)).lower()\n",
        "    text = re.sub(\"(\\-\\s+)\", ' ', str(text)).lower()\n",
        "    text = re.sub(\"(\\:\\s+)\", ' ', str(text)).lower()\n",
        "    text = re.sub(\"(\\s+.\\s+)\", ' ', str(text)).lower()\n",
        "\n",
        "    try:\n",
        "        url = re.search(r'((https*:\\/*)([^\\/\\s]+))(.[^\\s]+)', str(text))\n",
        "        repl_url = url.group(3)\n",
        "        text = re.sub(r'((https*:\\/*)([^\\/\\s]+))(.[^\\s]+)', repl_url, str(text))\n",
        "    except Exception as e:\n",
        "        pass\n",
        "\n",
        "    text = re.sub(\"(\\s+)\", ' ', str(text)).lower()\n",
        "    text = re.sub(\"(\\s+.\\s+)\", ' ', str(text)).lower()\n",
        "\n",
        "    return text"
      ]
    },
    {
      "cell_type": "markdown",
      "metadata": {
        "id": "5AeJkZC2HS9y"
      },
      "source": [
        "### Loading the datset for training translation model\n",
        "\n",
        "All the data set can be found in the same github repository. We first load the data from our text files into english_sentences and french_sentences sentences respectively by reading each line of the text file by cleaning the line. We have found a preprocessed clean dataset for translation purpose. We just need to do small changes to it like removing the unnecessary trailing spaces, converting the text to lower case and removing punctuation to create better bag of vocabulary."
      ]
    },
    {
      "cell_type": "code",
      "execution_count": null,
      "metadata": {
        "id": "me0owl_UU8eN"
      },
      "outputs": [],
      "source": [
        "import contractions\n",
        "\n",
        "eng_file = 'English_data.txt'\n",
        "fre_file = 'French_data.txt'\n",
        "# Load English data\n",
        "english_sentences = []\n",
        "with open(eng_file) as f:\n",
        "    for line in f:\n",
        "      expanded_words = ''  \n",
        "      for word in line.split():\n",
        "        # using contractions.fix to expand the shotened words\n",
        "        expanded_words += ' ' + contractions.fix(word) \n",
        "      line = expanded_words.rstrip()\n",
        "      line = line.lower()\n",
        "      line = re.sub(r'[^\\w\\s]', '', line)\n",
        "      line = '<start> ' + line + ' <end>'\n",
        "      english_sentences.append(line)\n",
        "# Load French data\n",
        "french_sentences = []\n",
        "with open(fre_file) as f:\n",
        "    for line in f:\n",
        "      line = line.lower()\n",
        "      line = re.sub(r'[^\\w\\s]', '', line)\n",
        "      line = '<start> ' + line + ' <end>'\n",
        "      french_sentences.append(line)\n",
        "sent_pairs = [[a_, b_] for a_, b_ in zip(french_sentences, english_sentences)]"
      ]
    },
    {
      "cell_type": "code",
      "execution_count": null,
      "metadata": {
        "id": "LsNX7tvlU_qM"
      },
      "outputs": [],
      "source": [
        "class LanguageIndex():\n",
        "    def __init__(self, lang):\n",
        "        self.lang = lang\n",
        "        self.word2idx = {}\n",
        "        self.idx2word = {}\n",
        "        self.vocab = set()\n",
        "\n",
        "        self.create_index()\n",
        "\n",
        "    def create_index(self):\n",
        "        for phrase in self.lang:\n",
        "            self.vocab.update(phrase.split(' '))\n",
        "\n",
        "        self.vocab = sorted(self.vocab)\n",
        "\n",
        "        self.word2idx['<pad>'] = 0\n",
        "        for index, word in enumerate(self.vocab):\n",
        "            self.word2idx[word] = index + 1\n",
        "\n",
        "        for word, index in self.word2idx.items():\n",
        "            self.idx2word[index] = word\n",
        "def max_length(tensor):\n",
        "    return max(len(t) for t in tensor)"
      ]
    },
    {
      "cell_type": "markdown",
      "source": [
        "Word Embeddings or Word vectorization is a methodology in NLP to map words or phrases from vocabulary to a corresponding vector of real numbers which used to find word predictions, word similarities/semantics."
      ],
      "metadata": {
        "id": "VEURuD3Juj6x"
      }
    },
    {
      "cell_type": "code",
      "execution_count": null,
      "metadata": {
        "id": "bdwNDPSlVEjt"
      },
      "outputs": [],
      "source": [
        "def load_dataset(pairs, num_examples):\n",
        "\n",
        "    # index language using the class defined above    \n",
        "    inp_lang = LanguageIndex(en for en, ma in pairs)\n",
        "    targ_lang = LanguageIndex(ma for en, ma in pairs)\n",
        "    \n",
        "    # Vectorize the input and target languages\n",
        "    \n",
        "    # French sentences\n",
        "    input_tensor = [[inp_lang.word2idx[s] for s in en.split(' ')] for en, ma in pairs]\n",
        "    \n",
        "    # English sentences\n",
        "    target_tensor = [[targ_lang.word2idx[s] for s in ma.split(' ')] for en, ma in pairs]\n",
        "    \n",
        "    max_length_inp, max_length_tar = max_length(input_tensor), max_length(target_tensor)\n",
        "    \n",
        "    # Padding the input and output tensor to the maximum length\n",
        "    input_tensor = tf.keras.preprocessing.sequence.pad_sequences(input_tensor, \n",
        "                                                                 maxlen=max_length_inp,\n",
        "                                                                 padding='post')\n",
        "    \n",
        "    target_tensor = tf.keras.preprocessing.sequence.pad_sequences(target_tensor, \n",
        "                                                                  maxlen=max_length_tar, \n",
        "                                                                  padding='post')\n",
        "    \n",
        "    return input_tensor, target_tensor, inp_lang, targ_lang, max_length_inp, max_length_tar\n",
        "input_tensor, target_tensor, inp_lang, targ_lang, max_length_inp, max_length_targ = load_dataset(sent_pairs, len(english_sentences))"
      ]
    },
    {
      "cell_type": "markdown",
      "source": [
        "The train-test split procedure is used to estimate the performance of machine learning algorithms when they are used to make predictions on data not used to train the model."
      ],
      "metadata": {
        "id": "bF7-7by-u3Xy"
      }
    },
    {
      "cell_type": "code",
      "execution_count": null,
      "metadata": {
        "id": "bzoS64ZyVRdC"
      },
      "outputs": [],
      "source": [
        "input_tensor_train, input_tensor_val, target_tensor_train, target_tensor_val = train_test_split(input_tensor, target_tensor, test_size=0.1, random_state = 101)\n",
        "\n",
        "# Show length\n",
        "len(input_tensor_train), len(target_tensor_train), len(input_tensor_val), len(target_tensor_val)\n",
        "\n",
        "BUFFER_SIZE = len(input_tensor_train)\n",
        "BATCH_SIZE = 64\n",
        "N_BATCH = BUFFER_SIZE//BATCH_SIZE\n",
        "embedding_dim = 256\n",
        "units = 1024\n",
        "vocab_inp_size = len(inp_lang.word2idx)\n",
        "vocab_tar_size = len(targ_lang.word2idx)\n",
        "\n",
        "dataset = tf.data.Dataset.from_tensor_slices((input_tensor_train, target_tensor_train)).shuffle(BUFFER_SIZE)\n",
        "dataset = dataset.batch(BATCH_SIZE, drop_remainder=True)"
      ]
    },
    {
      "cell_type": "markdown",
      "metadata": {
        "id": "vh2wD7qnLOy8"
      },
      "source": [
        "### Encoder - Decoder model for text translation\n",
        "\n",
        "Here, we are implementing an encoder-decoder model with attention"
      ]
    },
    {
      "cell_type": "code",
      "execution_count": null,
      "metadata": {
        "id": "UHrL6_P3VS5J"
      },
      "outputs": [],
      "source": [
        "def gru(units):\n",
        "\n",
        "    return tf.keras.layers.GRU(units, \n",
        "                                   return_sequences=True, \n",
        "                                   return_state=True, \n",
        "                                   recurrent_activation='sigmoid', \n",
        "                                   recurrent_initializer='glorot_uniform')\n",
        "    \n",
        "class Encoder(tf.keras.Model):\n",
        "    def __init__(self, vocab_size, embedding_dim, enc_units, batch_sz):\n",
        "        super(Encoder, self).__init__()\n",
        "        self.batch_sz = batch_sz\n",
        "        self.enc_units = enc_units\n",
        "        self.embedding = tf.keras.layers.Embedding(vocab_size, embedding_dim)\n",
        "        self.gru = gru(self.enc_units)\n",
        "        \n",
        "    def call(self, x, hidden):\n",
        "        x = self.embedding(x)\n",
        "        output, state = self.gru(x, initial_state = hidden)        \n",
        "        return output, state\n",
        "    \n",
        "    def initialize_hidden_state(self):\n",
        "        return tf.zeros((self.batch_sz, self.enc_units))\n",
        "\n",
        "class Decoder(tf.keras.Model):\n",
        "    def __init__(self, vocab_size, embedding_dim, dec_units, batch_sz):\n",
        "        super(Decoder, self).__init__()\n",
        "        self.batch_sz = batch_sz\n",
        "        self.dec_units = dec_units\n",
        "        self.embedding = tf.keras.layers.Embedding(vocab_size, embedding_dim)\n",
        "        self.gru = gru(self.dec_units)\n",
        "        self.fc = tf.keras.layers.Dense(vocab_size)\n",
        "        \n",
        "        # used for attention\n",
        "        self.W1 = tf.keras.layers.Dense(self.dec_units)\n",
        "        self.W2 = tf.keras.layers.Dense(self.dec_units)\n",
        "        self.V = tf.keras.layers.Dense(1)\n",
        "        \n",
        "    def call(self, x, hidden, enc_output):\n",
        "\n",
        "        hidden_with_time_axis = tf.expand_dims(hidden, 1)\n",
        "        \n",
        "        score = self.V(tf.nn.tanh(self.W1(enc_output) + self.W2(hidden_with_time_axis)))\n",
        "        \n",
        "        attention_weights = tf.nn.softmax(score, axis=1)\n",
        "        \n",
        "        context_vector = attention_weights * enc_output\n",
        "        context_vector = tf.reduce_sum(context_vector, axis=1)\n",
        "        \n",
        "        x = self.embedding(x)\n",
        "        \n",
        "        x = tf.concat([tf.expand_dims(context_vector, 1), x], axis=-1)\n",
        "        \n",
        "        output, state = self.gru(x)\n",
        "\n",
        "        output = tf.reshape(output, (-1, output.shape[2]))\n",
        "\n",
        "        x = self.fc(output)\n",
        "        \n",
        "        return x, state, attention_weights\n",
        "        \n",
        "    def initialize_hidden_state(self):\n",
        "        return tf.zeros((self.batch_sz, self.dec_units))"
      ]
    },
    {
      "cell_type": "code",
      "execution_count": null,
      "metadata": {
        "id": "PRia3vyzVakO"
      },
      "outputs": [],
      "source": [
        "encoder = Encoder(vocab_inp_size, embedding_dim, units, BATCH_SIZE)\n",
        "decoder = Decoder(vocab_tar_size, embedding_dim, units, BATCH_SIZE)"
      ]
    },
    {
      "cell_type": "markdown",
      "metadata": {
        "id": "o_YSoGoQLmBZ"
      },
      "source": [
        "### Define the optimizer and the loss function"
      ]
    },
    {
      "cell_type": "code",
      "execution_count": null,
      "metadata": {
        "id": "PhBp4_D3VbuC"
      },
      "outputs": [],
      "source": [
        "# Adam optimizer for our model\n",
        "optimizer = tf.optimizers.Adam()\n",
        "\n",
        "def loss_function(real, pred):\n",
        "    mask = 1 - np.equal(real, 0)\n",
        "    loss_ = tf.nn.sparse_softmax_cross_entropy_with_logits(labels=real, logits=pred) * mask\n",
        "    return tf.reduce_mean(loss_)\n",
        "\n",
        "checkpoint = tf.train.Checkpoint(optimizer=optimizer,\n",
        "                                 encoder=encoder,\n",
        "                                 decoder=decoder)"
      ]
    },
    {
      "cell_type": "markdown",
      "metadata": {
        "id": "TYuVfQv5Lx0l"
      },
      "source": [
        "### Training translation model\n",
        "\n",
        "1. Pass the input through the encoder which will return encoder output and the encoder hidden state.\n",
        "2. The encoder output, encoder hidden state and the decoder input are passed to the decoder.\n",
        "3. The decoder returns the predictions and the decoder hidden state.\n",
        "4. The decoder hidden state is then passed back into the model and the predictions are used to calculate the loss.\n",
        "5. Using teacher forcing to decide the next input to the decoder.\n",
        "6. Teacher forcing is the technique where the target word is passed as the next input to the decoder.\n",
        "7. The final step is to calculate the gradients and apply it to the optimizer and backpropagate."
      ]
    },
    {
      "cell_type": "code",
      "execution_count": null,
      "metadata": {
        "colab": {
          "base_uri": "https://localhost:8080/"
        },
        "id": "H-Vkxk5VVfo5",
        "outputId": "8e187aef-cd14-4619-ce67-3f285c99f071"
      },
      "outputs": [
        {
          "output_type": "stream",
          "name": "stdout",
          "text": [
            "Epoch 1 Batch 0 Loss 4.0720\n",
            "Epoch 1 Batch 100 Loss 1.0894\n",
            "Epoch 1 Batch 200 Loss 0.8924\n",
            "Epoch 1 Batch 300 Loss 0.8590\n",
            "Epoch 1 Batch 400 Loss 0.7913\n",
            "Epoch 1 Batch 500 Loss 0.7269\n",
            "Epoch 1 Batch 600 Loss 0.6561\n",
            "Epoch 1 Batch 700 Loss 0.5898\n",
            "Epoch 1 Batch 800 Loss 0.5870\n",
            "Epoch 1 Batch 900 Loss 0.5256\n",
            "Epoch 1 Batch 1000 Loss 0.4339\n",
            "Epoch 1 Batch 1100 Loss 0.3952\n",
            "Epoch 1 Batch 1200 Loss 0.4401\n",
            "Epoch 1 Batch 1300 Loss 0.3096\n",
            "Epoch 1 Batch 1400 Loss 0.2373\n",
            "Epoch 1 Batch 1500 Loss 0.1417\n",
            "Epoch 1 Batch 1600 Loss 0.1269\n",
            "Epoch 1 Batch 1700 Loss 0.0880\n",
            "Epoch 1 Batch 1800 Loss 0.0909\n",
            "Epoch 1 Batch 1900 Loss 0.0949\n",
            "Epoch 1 Loss 0.5420\n",
            "Time taken for 1 epoch 1176.2511394023895 sec\n",
            "\n"
          ]
        }
      ],
      "source": [
        "EPOCHS = 1\n",
        "\n",
        "# We have trained the model on several epochs and stored the training details in a checkpoint. We now just neet to run for 1 epoch to get good results.\n",
        "checkpoint.restore(tf.train.latest_checkpoint(checkpoint_prefix_translate))\n",
        "\n",
        "for epoch in range(EPOCHS):\n",
        "    start = time.time()\n",
        "    \n",
        "    hidden = encoder.initialize_hidden_state()\n",
        "    total_loss = 0\n",
        "    \n",
        "    for (batch, (inp, targ)) in enumerate(dataset):\n",
        "        loss = 0\n",
        "        \n",
        "        with tf.GradientTape() as tape:\n",
        "            enc_output, enc_hidden = encoder(inp, hidden)\n",
        "            \n",
        "            dec_hidden = enc_hidden\n",
        "            \n",
        "            dec_input = tf.expand_dims([targ_lang.word2idx['<start>']] * BATCH_SIZE, 1)       \n",
        "            \n",
        "            # Teacher forcing - feeding the target as the next input\n",
        "            for t in range(1, targ.shape[1]):\n",
        "                # passing enc_output to the decoder\n",
        "                predictions, dec_hidden, _ = decoder(dec_input, dec_hidden, enc_output)\n",
        "                \n",
        "                loss += loss_function(targ[:, t], predictions)\n",
        "                \n",
        "                # using teacher forcing\n",
        "                dec_input = tf.expand_dims(targ[:, t], 1)\n",
        "        \n",
        "        batch_loss = (loss / int(targ.shape[1]))\n",
        "        \n",
        "        total_loss += batch_loss\n",
        "        \n",
        "        variables = encoder.variables + decoder.variables\n",
        "        \n",
        "        gradients = tape.gradient(loss, variables)\n",
        "        \n",
        "        optimizer.apply_gradients(zip(gradients, variables))\n",
        "        \n",
        "        if batch % 100 == 0:\n",
        "            print('Epoch {} Batch {} Loss {:.4f}'.format(epoch + 1,\n",
        "                                                         batch,\n",
        "                                                         batch_loss.numpy()))\n",
        "    # saving (checkpoint) the model every epoch\n",
        "    # checkpoint.save(file_prefix = checkpoint_prefix_translate)\n",
        "    \n",
        "    print('Epoch {} Loss {:.4f}'.format(epoch + 1,\n",
        "                                        total_loss / N_BATCH))\n",
        "    print('Time taken for 1 epoch {} sec\\n'.format(time.time() - start))"
      ]
    },
    {
      "cell_type": "markdown",
      "metadata": {
        "id": "fkungQnxMNuB"
      },
      "source": [
        "### Translate\n",
        "\n",
        "* The evaluate function is similar to the training loop, except we don't use teacher forcing here. The input to the decoder at each time step is its previous predictions along with the hidden state and the encoder output.\n",
        "* We will stop predicting when the model predicts the end token and store the attention weights for every time step.\n"
      ]
    },
    {
      "cell_type": "code",
      "execution_count": null,
      "metadata": {
        "id": "JEUvb7uaVpRw"
      },
      "outputs": [],
      "source": [
        "def evaluate(inputs, encoder, decoder, inp_lang, targ_lang, max_length_inp, max_length_targ):\n",
        "    \n",
        "    attention_plot = np.zeros((max_length_targ, max_length_inp))\n",
        "    sentence = ''\n",
        "    for i in inputs[0]:\n",
        "        if i == 0:\n",
        "            break\n",
        "        if i > len(inp_lang.idx2word):\n",
        "            i = 4\n",
        "        sentence = sentence + inp_lang.idx2word[i] + ' '\n",
        "    sentence = sentence[:-1]\n",
        "    \n",
        "    inputs = tf.convert_to_tensor(inputs)\n",
        "    \n",
        "    result = ''\n",
        "\n",
        "    hidden = [tf.zeros((1, units))]\n",
        "    enc_out, enc_hidden = encoder(inputs, hidden)\n",
        "\n",
        "    dec_hidden = enc_hidden\n",
        "    dec_input = tf.expand_dims([targ_lang.word2idx['<start>']], 0)\n",
        "\n",
        "    for t in range(max_length_targ):\n",
        "        predictions, dec_hidden, attention_weights = decoder(dec_input, dec_hidden, enc_out)\n",
        "        \n",
        "        # storing the attention weights to plot later on\n",
        "        attention_weights = tf.reshape(attention_weights, (-1, ))\n",
        "        attention_plot[t] = attention_weights.numpy()\n",
        "\n",
        "        predicted_id = tf.argmax(predictions[0]).numpy()\n",
        "\n",
        "        result += targ_lang.idx2word[predicted_id] + ' '\n",
        "\n",
        "        if targ_lang.idx2word[predicted_id] == '<end>':\n",
        "            return result, sentence, attention_plot\n",
        "        \n",
        "        # the predicted ID is fed back into the model\n",
        "        dec_input = tf.expand_dims([predicted_id], 0)\n",
        "\n",
        "    return result, sentence, attention_plot"
      ]
    },
    {
      "cell_type": "code",
      "source": [
        "def predict_random_val_sentence():\n",
        "    actual_sent = ''\n",
        "    k = np.random.randint(len(input_tensor_val)) \n",
        "    random_input = input_tensor_val[k]\n",
        "    random_output = target_tensor_val[k]\n",
        "    random_input = np.expand_dims(random_input,0)\n",
        "    result, sentence, attention_plot = evaluate(random_input, encoder, decoder, inp_lang, targ_lang, max_length_inp, max_length_targ)\n",
        "    print('Input: {}'.format(sentence[8:-6]))\n",
        "    print('Predicted translation: {}'.format(result[:-6]))\n",
        "    for i in random_output:\n",
        "        if i == 0:\n",
        "            break\n",
        "        if i > len(targ_lang.idx2word):\n",
        "            i = 4\n",
        "        actual_sent = actual_sent + targ_lang.idx2word[i] + ' '\n",
        "    actual_sent = actual_sent[8:-7]\n",
        "    print('Actual translation: {}'.format(actual_sent))"
      ],
      "metadata": {
        "id": "Sea-rUdbuGsI"
      },
      "execution_count": null,
      "outputs": []
    },
    {
      "cell_type": "code",
      "source": [
        "predict_random_val_sentence()"
      ],
      "metadata": {
        "colab": {
          "base_uri": "https://localhost:8080/"
        },
        "id": "oqEDPLULuDZ3",
        "outputId": "f6272e0d-48bd-40e4-ce2b-1172ff75487d"
      },
      "execution_count": null,
      "outputs": [
        {
          "output_type": "stream",
          "name": "stdout",
          "text": [
            "Input: elle aime les pêches  les fraises et les citrons verts \n",
            "\n",
            "Predicted translation:  she likes bananas  strawberries  and limes  \n",
            "Actual translation:  she likes peaches  strawberries  and limes \n"
          ]
        }
      ]
    },
    {
      "cell_type": "code",
      "source": [
        "predict_random_val_sentence()"
      ],
      "metadata": {
        "colab": {
          "base_uri": "https://localhost:8080/"
        },
        "id": "qeXaGv4duHtD",
        "outputId": "ff779d3b-e56f-4bcd-e209-c1de75cb87c5"
      },
      "execution_count": null,
      "outputs": [
        {
          "output_type": "stream",
          "name": "stdout",
          "text": [
            "Input: californie est jamais chaude en octobre  et il est parfois doux à l automne \n",
            "\n",
            "Predicted translation:  california is never hot during october  and it is sometimes mild in fall  \n",
            "Actual translation:  california is never hot during october  and it is sometimes mild in fall \n"
          ]
        }
      ]
    },
    {
      "cell_type": "code",
      "source": [
        "predict_random_val_sentence()"
      ],
      "metadata": {
        "colab": {
          "base_uri": "https://localhost:8080/"
        },
        "id": "nviRJbANuH64",
        "outputId": "6fd7ebcf-0fe3-4832-fb8a-0e390507f9da"
      },
      "execution_count": null,
      "outputs": [
        {
          "output_type": "stream",
          "name": "stdout",
          "text": [
            "Input: paris est jamais agréable au mois d août  et il est relaxant habituellement en novembre \n",
            "\n",
            "Predicted translation:  paris is never nice during august  and it is usually relaxing in november  \n",
            "Actual translation:  paris is never pleasant during august  and it is usually relaxing in november \n"
          ]
        }
      ]
    },
    {
      "cell_type": "markdown",
      "source": [
        "### Evaluation using rouge score for translation."
      ],
      "metadata": {
        "id": "1Dpqu2Q8ca0Z"
      }
    },
    {
      "cell_type": "code",
      "source": [
        "pred_summaries_train = []\n",
        "true_summaries_train = []\n",
        "for i in range(1000):\n",
        "  actual_sent = ''\n",
        "  k = np.random.randint(len(input_tensor_val)) \n",
        "  random_input = input_tensor_val[k]\n",
        "  random_output = target_tensor_val[k]\n",
        "  random_input = np.expand_dims(random_input,0)\n",
        "  result, sentence, attention_plot = evaluate(random_input, encoder, decoder, inp_lang, targ_lang, max_length_inp, max_length_targ)\n",
        "  for i in random_output:\n",
        "      if i == 0:\n",
        "          break\n",
        "      if i > len(targ_lang.idx2word):\n",
        "          i = 4\n",
        "      actual_sent = actual_sent + targ_lang.idx2word[i] + ' '\n",
        "  actual_sent = actual_sent[8:-7]\n",
        "  pred_summaries_train.append(result[:-6])\n",
        "  true_summaries_train.append(actual_sent)"
      ],
      "metadata": {
        "id": "CbYEdHLjY-n-"
      },
      "execution_count": null,
      "outputs": []
    },
    {
      "cell_type": "code",
      "source": [
        "def compute_summary_stats(scores):\n",
        "  def mean_confidence_interval(data, confidence=0.95):\n",
        "    a = 1.0 * np.array(data)\n",
        "    n = len(a)\n",
        "    m, se = np.mean(a), scipy.stats.sem(a)\n",
        "    h = se * scipy.stats.t.ppf((1 + confidence) / 2., n-1)\n",
        "    return m, m-h, m+h\n",
        "  stats = {}\n",
        "  for key in scores.keys():\n",
        "    stats[key] = mean_confidence_interval(scores[key])\n",
        "  return stats\n",
        "\n",
        "def plot_scores(scores, label_text, val = 'rogue1_precision'):\n",
        "  for measure in scores.keys():\n",
        "    df = pd.DataFrame({\"score\":scores[val] , \"dummy\": range(len(scores[val]))})\n",
        "    sns.set_style(\"whitegrid\")\n",
        "    f, (ax_box, ax_hist) = plt.subplots(2, sharex=True, gridspec_kw= {\"height_ratios\": (0.2, 1)})\n",
        "    f.set_size_inches(11.7, 8.27)\n",
        "    mean=df['score'].mean()\n",
        "    median=df['score'].median()\n",
        "    mode=df['score'].mode()[0]\n",
        "\n",
        "    sns.boxplot(df[\"score\"], ax=ax_box)\n",
        "    ax_box.axvline(mean, color='r', linestyle='--')\n",
        "    ax_box.axvline(median, color='g', linestyle='-')\n",
        "    ax_box.axvline(mode, color='b', linestyle='-')\n",
        "\n",
        "    sns.distplot(df[\"score\"], ax=ax_hist)\n",
        "    ax_hist.axvline(mean, color='r', linestyle='--')\n",
        "    ax_hist.axvline(median, color='g', linestyle='-')\n",
        "    ax_hist.axvline(mode, color='b', linestyle='-')\n",
        "\n",
        "    plt.legend({'Mean':mean,'Median':median,'Mode':mode})\n",
        "    plt.title(f'{measure} {label_text}')\n",
        "    ax_box.set(xlabel='')\n",
        "    plt.show()\n",
        "\n",
        "def compute_rouge(pred_summaries, true_summaries):\n",
        "  scorer = rouge_scorer.RougeScorer(['rouge1', 'rougeL'], use_stemmer=True)\n",
        "  rogue1_precision = []\n",
        "  rogueL_precision = []\n",
        "  for i in range(len(pred_summaries)):\n",
        "    score = scorer.score(pred_summaries[i], true_summaries[i])\n",
        "    rogue1_precision.append(score['rouge1'].precision)\n",
        "\n",
        "    rogueL_precision.append(score['rougeL'].precision)\n",
        "\n",
        "  scores = {'rogue1_precision':rogue1_precision,'rogueL_precision':rogueL_precision}\n",
        "  return scores\n",
        "\n",
        "scores_train =  compute_rouge(pred_summaries_train, true_summaries_train)\n",
        "\n",
        "compute_summary_stats(scores_train)\n",
        "\n",
        "plot_scores(scores_train, '')"
      ],
      "metadata": {
        "colab": {
          "base_uri": "https://localhost:8080/",
          "height": 1000
        },
        "id": "LURKQ3l4YsDv",
        "outputId": "06bbd4c9-02a1-4354-c390-03310cd61c6d"
      },
      "execution_count": null,
      "outputs": [
        {
          "output_type": "display_data",
          "data": {
            "image/png": "[encoded data removed]",
            "text/plain": [
              "<Figure size 842.4x595.44 with 2 Axes>"
            ]
          },
          "metadata": {}
        },
        {
          "output_type": "display_data",
          "data": {
            "image/png": "[encoded data removed]",
            "text/plain": [
              "<Figure size 842.4x595.44 with 2 Axes>"
            ]
          },
          "metadata": {}
        }
      ]
    },
    {
      "cell_type": "markdown",
      "source": [
        "### Evaluation using bleu score for translation"
      ],
      "metadata": {
        "id": "9WMkXps-spxt"
      }
    },
    {
      "cell_type": "code",
      "source": [
        "def compute_bleu(pred_summaries, true_summaries):\n",
        "  bleu_score = []\n",
        "  for i in range(len(pred_summaries)):\n",
        "    reference = pred_summaries[i].split(' ')\n",
        "    hypothesis = true_summaries[i].split(' ')\n",
        "    score =  sentence_bleu([reference], hypothesis, weights = (0.5, 0.5))\n",
        "    bleu_score.append(score)\n",
        "\n",
        "  scores = {'Bleu Score':bleu_score}\n",
        "  return scores\n",
        "\n",
        "\n",
        "scores_train =  compute_bleu(pred_summaries_train, true_summaries_train)\n",
        "\n",
        "compute_summary_stats(scores_train)\n",
        "\n",
        "plot_scores(scores_train, '', 'Bleu Score')"
      ],
      "metadata": {
        "id": "3EKim3fQspEa",
        "colab": {
          "base_uri": "https://localhost:8080/",
          "height": 511
        },
        "outputId": "fd20c838-221e-4ecc-bacd-82c67ed561ce"
      },
      "execution_count": null,
      "outputs": [
        {
          "output_type": "display_data",
          "data": {
            "image/png": "[encoded data removed]",
            "text/plain": [
              "<Figure size 842.4x595.44 with 2 Axes>"
            ]
          },
          "metadata": {}
        }
      ]
    },
    {
      "cell_type": "markdown",
      "metadata": {
        "id": "nGIduppgaohV"
      },
      "source": [
        "## Summarization"
      ]
    },
    {
      "cell_type": "markdown",
      "metadata": {
        "id": "s_1BhXj4MiDE"
      },
      "source": [
        "### Loading data sets for training summarization model.\n",
        "Load the data sets from the github and remove the unnecessary columns. "
      ]
    },
    {
      "cell_type": "code",
      "execution_count": null,
      "metadata": {
        "colab": {
          "base_uri": "https://localhost:8080/",
          "height": 223
        },
        "id": "Oc0StwTnVu8-",
        "outputId": "f3a1a428-2800-406f-f049-15c81cad3a4d"
      },
      "outputs": [
        {
          "output_type": "stream",
          "name": "stdout",
          "text": [
            "Dataset size: 102915\n"
          ]
        },
        {
          "output_type": "execute_result",
          "data": {
            "text/html": [
              "\n",
              "  <div id=\"df-182acfed-2101-4b25-86f4-b1f71de77b47\">\n",
              "    <div class=\"colab-df-container\">\n",
              "      <div>\n",
              "<style scoped>\n",
              "    .dataframe tbody tr th:only-of-type {\n",
              "        vertical-align: middle;\n",
              "    }\n",
              "\n",
              "    .dataframe tbody tr th {\n",
              "        vertical-align: top;\n",
              "    }\n",
              "\n",
              "    .dataframe thead th {\n",
              "        text-align: right;\n",
              "    }\n",
              "</style>\n",
              "<table border=\"1\" class=\"dataframe\">\n",
              "  <thead>\n",
              "    <tr style=\"text-align: right;\">\n",
              "      <th></th>\n",
              "      <th>headlines</th>\n",
              "      <th>text</th>\n",
              "    </tr>\n",
              "  </thead>\n",
              "  <tbody>\n",
              "    <tr>\n",
              "      <th>49667</th>\n",
              "      <td>HC asks Centre to act against BJP, Cong in fun...</td>\n",
              "      <td>Delhi High Court gave the Home Ministry six we...</td>\n",
              "    </tr>\n",
              "    <tr>\n",
              "      <th>76369</th>\n",
              "      <td>Tinder faces login issues after Facebook priva...</td>\n",
              "      <td>Dating app Tinder faced outage on Wednesday du...</td>\n",
              "    </tr>\n",
              "    <tr>\n",
              "      <th>62590</th>\n",
              "      <td>Still waiting to see if IndiGo bids for Air In...</td>\n",
              "      <td>Civil Aviation Secretary RN Choubey has said t...</td>\n",
              "    </tr>\n",
              "    <tr>\n",
              "      <th>272</th>\n",
              "      <td>Selectors told Dhoni time has come to move on ...</td>\n",
              "      <td>Before excluding MS Dhoni from the squads for ...</td>\n",
              "    </tr>\n",
              "    <tr>\n",
              "      <th>48747</th>\n",
              "      <td>Ã¢ÂÂ¹1.17cr spent on food during Jaya's 75-da...</td>\n",
              "      <td>As much as Ã¢ÂÂ¹1.17 crore was spent on food ...</td>\n",
              "    </tr>\n",
              "  </tbody>\n",
              "</table>\n",
              "</div>\n",
              "      <button class=\"colab-df-convert\" onclick=\"convertToInteractive('df-182acfed-2101-4b25-86f4-b1f71de77b47')\"\n",
              "              title=\"Convert this dataframe to an interactive table.\"\n",
              "              style=\"display:none;\">\n",
              "        \n",
              "  <svg xmlns=\"http://www.w3.org/2000/svg\" height=\"24px\"viewBox=\"0 0 24 24\"\n",
              "       width=\"24px\">\n",
              "    <path d=\"M0 0h24v24H0V0z\" fill=\"none\"/>\n",
              "    <path d=\"M18.56 5.44l.94 2.06.94-2.06 2.06-.94-2.06-.94-.94-2.06-.94 2.06-2.06.94zm-11 1L8.5 8.5l.94-2.06 2.06-.94-2.06-.94L8.5 2.5l-.94 2.06-2.06.94zm10 10l.94 2.06.94-2.06 2.06-.94-2.06-.94-.94-2.06-.94 2.06-2.06.94z\"/><path d=\"M17.41 7.96l-1.37-1.37c-.4-.4-.92-.59-1.43-.59-.52 0-1.04.2-1.43.59L10.3 9.45l-7.72 7.72c-.78.78-.78 2.05 0 2.83L4 21.41c.39.39.9.59 1.41.59.51 0 1.02-.2 1.41-.59l7.78-7.78 2.81-2.81c.8-.78.8-2.07 0-2.86zM5.41 20L4 18.59l7.72-7.72 1.47 1.35L5.41 20z\"/>\n",
              "  </svg>\n",
              "      </button>\n",
              "      \n",
              "  <style>\n",
              "    .colab-df-container {\n",
              "      display:flex;\n",
              "      flex-wrap:wrap;\n",
              "      gap: 12px;\n",
              "    }\n",
              "\n",
              "    .colab-df-convert {\n",
              "      background-color: #E8F0FE;\n",
              "      border: none;\n",
              "      border-radius: 50%;\n",
              "      cursor: pointer;\n",
              "      display: none;\n",
              "      fill: #1967D2;\n",
              "      height: 32px;\n",
              "      padding: 0 0 0 0;\n",
              "      width: 32px;\n",
              "    }\n",
              "\n",
              "    .colab-df-convert:hover {\n",
              "      background-color: #E2EBFA;\n",
              "      box-shadow: 0px 1px 2px rgba(60, 64, 67, 0.3), 0px 1px 3px 1px rgba(60, 64, 67, 0.15);\n",
              "      fill: #174EA6;\n",
              "    }\n",
              "\n",
              "    [theme=dark] .colab-df-convert {\n",
              "      background-color: #3B4455;\n",
              "      fill: #D2E3FC;\n",
              "    }\n",
              "\n",
              "    [theme=dark] .colab-df-convert:hover {\n",
              "      background-color: #434B5C;\n",
              "      box-shadow: 0px 1px 3px 1px rgba(0, 0, 0, 0.15);\n",
              "      filter: drop-shadow(0px 1px 2px rgba(0, 0, 0, 0.3));\n",
              "      fill: #FFFFFF;\n",
              "    }\n",
              "  </style>\n",
              "\n",
              "      <script>\n",
              "        const buttonEl =\n",
              "          document.querySelector('#df-182acfed-2101-4b25-86f4-b1f71de77b47 button.colab-df-convert');\n",
              "        buttonEl.style.display =\n",
              "          google.colab.kernel.accessAllowed ? 'block' : 'none';\n",
              "\n",
              "        async function convertToInteractive(key) {\n",
              "          const element = document.querySelector('#df-182acfed-2101-4b25-86f4-b1f71de77b47');\n",
              "          const dataTable =\n",
              "            await google.colab.kernel.invokeFunction('convertToInteractive',\n",
              "                                                     [key], {});\n",
              "          if (!dataTable) return;\n",
              "\n",
              "          const docLinkHtml = 'Like what you see? Visit the ' +\n",
              "            '<a target=\"_blank\" href=https://colab.research.google.com/notebooks/data_table.ipynb>data table notebook</a>'\n",
              "            + ' to learn more about interactive tables.';\n",
              "          element.innerHTML = '';\n",
              "          dataTable['output_type'] = 'display_data';\n",
              "          await google.colab.output.renderOutput(dataTable, element);\n",
              "          const docLink = document.createElement('div');\n",
              "          docLink.innerHTML = docLinkHtml;\n",
              "          element.appendChild(docLink);\n",
              "        }\n",
              "      </script>\n",
              "    </div>\n",
              "  </div>\n",
              "  "
            ],
            "text/plain": [
              "                                               headlines                                               text\n",
              "49667  HC asks Centre to act against BJP, Cong in fun...  Delhi High Court gave the Home Ministry six we...\n",
              "76369  Tinder faces login issues after Facebook priva...  Dating app Tinder faced outage on Wednesday du...\n",
              "62590  Still waiting to see if IndiGo bids for Air In...  Civil Aviation Secretary RN Choubey has said t...\n",
              "272    Selectors told Dhoni time has come to move on ...  Before excluding MS Dhoni from the squads for ...\n",
              "48747  Ã¢ÂÂ¹1.17cr spent on food during Jaya's 75-da...  As much as Ã¢ÂÂ¹1.17 crore was spent on food ..."
            ]
          },
          "metadata": {},
          "execution_count": 23
        }
      ],
      "source": [
        "filename1 = '/content/news_summary.csv'\n",
        "filename2 = '/content/news_summary_more.csv'\n",
        "\n",
        "df1 = pd.read_csv(filename1, encoding='iso-8859-1').reset_index(drop=True)\n",
        "df2 = pd.read_csv(filename2, encoding='iso-8859-1').reset_index(drop=True)\n",
        "\n",
        "df1_columns = df1.columns.tolist()\n",
        "df1_columns.remove('headlines')\n",
        "df1_columns.remove('text')\n",
        "df1.drop(df1_columns, axis='columns', inplace=True)\n",
        "\n",
        "df = pd.concat([df1, df2], axis='rows')\n",
        "del df1, df2\n",
        "\n",
        "# Shuffling the df\n",
        "df = df.sample(frac=1).reset_index(drop=True)\n",
        "\n",
        "print(f'Dataset size: {len(df)}')\n",
        "df.sample(5)"
      ]
    },
    {
      "cell_type": "markdown",
      "metadata": {
        "id": "vma_WZCTM_c1"
      },
      "source": [
        "### Data cleaning\n",
        "Cleaning both text and summary and adding `start` and `end` tokens in `headlines(summary)` to let the learning algorithm know from where the headlines start's and end's.\n",
        "\n",
        "It's important to use `sostok` and `eostok` as start and end tokens respectively as later while using `tensorflow's Tokenizer`, it will filter the tokens and covert them to lowercase.\n",
        "\n",
        "**sostok** & **eostok** tokens are used to let us know where to start & stop the summary because using `_START_` & `_END_`, tf's tokenizer with convert them to **start** & **end** respectively.\n",
        "\n",
        "So while decoding the summary sequences of sentences like **'everything is going to end in 2012'** if use `_START_` & `_END_` tokens (which will make the sentence like **'start everything is going to end in 2012 end'** this)  tf's tokenizer will convert start and end then we will stop decoding as we hit first **end**, To avoid this **sostok** & **eostok** tokens are used."
      ]
    },
    {
      "cell_type": "code",
      "execution_count": null,
      "metadata": {
        "id": "4k7uRU3qdByt"
      },
      "outputs": [],
      "source": [
        "df.text = df.text.apply(str.lower)\n",
        "df.headlines = df.headlines.apply(str.lower)\n",
        "df.headlines = df.headlines.apply(expand_contractions)\n",
        "df.text = df.text.apply(expand_contractions)\n",
        "\n",
        "df.text = df.text.apply(clean_text)\n",
        "df.headlines = df.headlines.apply(clean_text)\n",
        "\n",
        "df.headlines = df.headlines.apply(lambda x: f'_START_ {x} _END_')\n",
        "start_token = 'sostok'\n",
        "end_token = 'eostok'\n",
        "df.headlines = df.headlines.apply(lambda x: f'{start_token} {x} {end_token}')"
      ]
    },
    {
      "cell_type": "code",
      "execution_count": null,
      "metadata": {
        "colab": {
          "base_uri": "https://localhost:8080/",
          "height": 206
        },
        "id": "Z9a-ubPgguUR",
        "outputId": "148cc9bd-a0fe-4e43-ecf1-8667bf00f865"
      },
      "outputs": [
        {
          "output_type": "execute_result",
          "data": {
            "text/html": [
              "\n",
              "  <div id=\"df-d604bd0b-d00b-409e-b4ab-3ee3ee3044b7\">\n",
              "    <div class=\"colab-df-container\">\n",
              "      <div>\n",
              "<style scoped>\n",
              "    .dataframe tbody tr th:only-of-type {\n",
              "        vertical-align: middle;\n",
              "    }\n",
              "\n",
              "    .dataframe tbody tr th {\n",
              "        vertical-align: top;\n",
              "    }\n",
              "\n",
              "    .dataframe thead th {\n",
              "        text-align: right;\n",
              "    }\n",
              "</style>\n",
              "<table border=\"1\" class=\"dataframe\">\n",
              "  <thead>\n",
              "    <tr style=\"text-align: right;\">\n",
              "      <th></th>\n",
              "      <th>headlines</th>\n",
              "      <th>text</th>\n",
              "    </tr>\n",
              "  </thead>\n",
              "  <tbody>\n",
              "    <tr>\n",
              "      <th>99214</th>\n",
              "      <td>sostok _START_ yonex instagram handle gets hac...</td>\n",
              "      <td>official instagram account sports merchandise ...</td>\n",
              "    </tr>\n",
              "    <tr>\n",
              "      <th>24816</th>\n",
              "      <td>sostok _START_ ambani may buy majority stake e...</td>\n",
              "      <td>mukesh ambani close acquiring majority stake m...</td>\n",
              "    </tr>\n",
              "    <tr>\n",
              "      <th>43763</th>\n",
              "      <td>sostok _START_ kerala hc allows iage registrat...</td>\n",
              "      <td>kerala high court ruled couples seeking get ia...</td>\n",
              "    </tr>\n",
              "    <tr>\n",
              "      <th>101235</th>\n",
              "      <td>sostok _START_ aaps punjab ally breaks allianc...</td>\n",
              "      <td>lok insaaf party lip broke alliance aam aadmi ...</td>\n",
              "    </tr>\n",
              "    <tr>\n",
              "      <th>96322</th>\n",
              "      <td>sostok _START_ delhi end surge pricing ban cen...</td>\n",
              "      <td>delhi government planning prohibit taxi driver...</td>\n",
              "    </tr>\n",
              "  </tbody>\n",
              "</table>\n",
              "</div>\n",
              "      <button class=\"colab-df-convert\" onclick=\"convertToInteractive('df-d604bd0b-d00b-409e-b4ab-3ee3ee3044b7')\"\n",
              "              title=\"Convert this dataframe to an interactive table.\"\n",
              "              style=\"display:none;\">\n",
              "        \n",
              "  <svg xmlns=\"http://www.w3.org/2000/svg\" height=\"24px\"viewBox=\"0 0 24 24\"\n",
              "       width=\"24px\">\n",
              "    <path d=\"M0 0h24v24H0V0z\" fill=\"none\"/>\n",
              "    <path d=\"M18.56 5.44l.94 2.06.94-2.06 2.06-.94-2.06-.94-.94-2.06-.94 2.06-2.06.94zm-11 1L8.5 8.5l.94-2.06 2.06-.94-2.06-.94L8.5 2.5l-.94 2.06-2.06.94zm10 10l.94 2.06.94-2.06 2.06-.94-2.06-.94-.94-2.06-.94 2.06-2.06.94z\"/><path d=\"M17.41 7.96l-1.37-1.37c-.4-.4-.92-.59-1.43-.59-.52 0-1.04.2-1.43.59L10.3 9.45l-7.72 7.72c-.78.78-.78 2.05 0 2.83L4 21.41c.39.39.9.59 1.41.59.51 0 1.02-.2 1.41-.59l7.78-7.78 2.81-2.81c.8-.78.8-2.07 0-2.86zM5.41 20L4 18.59l7.72-7.72 1.47 1.35L5.41 20z\"/>\n",
              "  </svg>\n",
              "      </button>\n",
              "      \n",
              "  <style>\n",
              "    .colab-df-container {\n",
              "      display:flex;\n",
              "      flex-wrap:wrap;\n",
              "      gap: 12px;\n",
              "    }\n",
              "\n",
              "    .colab-df-convert {\n",
              "      background-color: #E8F0FE;\n",
              "      border: none;\n",
              "      border-radius: 50%;\n",
              "      cursor: pointer;\n",
              "      display: none;\n",
              "      fill: #1967D2;\n",
              "      height: 32px;\n",
              "      padding: 0 0 0 0;\n",
              "      width: 32px;\n",
              "    }\n",
              "\n",
              "    .colab-df-convert:hover {\n",
              "      background-color: #E2EBFA;\n",
              "      box-shadow: 0px 1px 2px rgba(60, 64, 67, 0.3), 0px 1px 3px 1px rgba(60, 64, 67, 0.15);\n",
              "      fill: #174EA6;\n",
              "    }\n",
              "\n",
              "    [theme=dark] .colab-df-convert {\n",
              "      background-color: #3B4455;\n",
              "      fill: #D2E3FC;\n",
              "    }\n",
              "\n",
              "    [theme=dark] .colab-df-convert:hover {\n",
              "      background-color: #434B5C;\n",
              "      box-shadow: 0px 1px 3px 1px rgba(0, 0, 0, 0.15);\n",
              "      filter: drop-shadow(0px 1px 2px rgba(0, 0, 0, 0.3));\n",
              "      fill: #FFFFFF;\n",
              "    }\n",
              "  </style>\n",
              "\n",
              "      <script>\n",
              "        const buttonEl =\n",
              "          document.querySelector('#df-d604bd0b-d00b-409e-b4ab-3ee3ee3044b7 button.colab-df-convert');\n",
              "        buttonEl.style.display =\n",
              "          google.colab.kernel.accessAllowed ? 'block' : 'none';\n",
              "\n",
              "        async function convertToInteractive(key) {\n",
              "          const element = document.querySelector('#df-d604bd0b-d00b-409e-b4ab-3ee3ee3044b7');\n",
              "          const dataTable =\n",
              "            await google.colab.kernel.invokeFunction('convertToInteractive',\n",
              "                                                     [key], {});\n",
              "          if (!dataTable) return;\n",
              "\n",
              "          const docLinkHtml = 'Like what you see? Visit the ' +\n",
              "            '<a target=\"_blank\" href=https://colab.research.google.com/notebooks/data_table.ipynb>data table notebook</a>'\n",
              "            + ' to learn more about interactive tables.';\n",
              "          element.innerHTML = '';\n",
              "          dataTable['output_type'] = 'display_data';\n",
              "          await google.colab.output.renderOutput(dataTable, element);\n",
              "          const docLink = document.createElement('div');\n",
              "          docLink.innerHTML = docLinkHtml;\n",
              "          element.appendChild(docLink);\n",
              "        }\n",
              "      </script>\n",
              "    </div>\n",
              "  </div>\n",
              "  "
            ],
            "text/plain": [
              "                                                headlines                                               text\n",
              "99214   sostok _START_ yonex instagram handle gets hac...  official instagram account sports merchandise ...\n",
              "24816   sostok _START_ ambani may buy majority stake e...  mukesh ambani close acquiring majority stake m...\n",
              "43763   sostok _START_ kerala hc allows iage registrat...  kerala high court ruled couples seeking get ia...\n",
              "101235  sostok _START_ aaps punjab ally breaks allianc...  lok insaaf party lip broke alliance aam aadmi ...\n",
              "96322   sostok _START_ delhi end surge pricing ban cen...  delhi government planning prohibit taxi driver..."
            ]
          },
          "metadata": {},
          "execution_count": 25
        }
      ],
      "source": [
        "df.sample(5)"
      ]
    },
    {
      "cell_type": "markdown",
      "metadata": {
        "id": "WrWj_zgNNlSc"
      },
      "source": [
        "\n",
        "Finding what should be the maximum length of text and headlines that will be feed or accepted by the learning algorithm."
      ]
    },
    {
      "cell_type": "code",
      "execution_count": null,
      "metadata": {
        "id": "lgp6iiyugwfu"
      },
      "outputs": [],
      "source": [
        "text_count = [len(sentence.split()) for sentence in df.text]\n",
        "headlines_count = [len(sentence.split()) for sentence in df.headlines]"
      ]
    },
    {
      "cell_type": "markdown",
      "metadata": {
        "id": "yoJgYU1oCnHh"
      },
      "source": [
        "## Extractive summarizer \n",
        "\n",
        "In Extractive summarization, we identify the important sentences or phrases from the original text and extract only those sentences which will be considered as the input to the abstractive summarizer."
      ]
    },
    {
      "cell_type": "code",
      "source": [
        "def sentence_similarity(sent1,sent2):    \n",
        "      \n",
        "  sent1 = [w.lower() for w in sent1]    \n",
        "  sent2 = [w.lower() for w in sent2]\n",
        "        \n",
        "  all_words = list(set(sent1 + sent2))   \n",
        "     \n",
        "  vector1 = [0] * len(all_words)    \n",
        "  vector2 = [0] * len(all_words)        \n",
        "  # Build the vector for the first sentence    \n",
        "  for w in sent1:        \n",
        "    vector1[all_words.index(w)]+=1                                                           \n",
        "  # Build the vector for the second sentence    \n",
        "  for w in sent2:                    \n",
        "    vector2[all_words.index(w)]+=1 \n",
        "               \n",
        "  return 1-cosine_distance(vector1,vector2)\n",
        "\n",
        "def build_similarity_matrix(sentences):\n",
        "  # Create an empty similarity matrix\n",
        "  similarity_matrix = np.zeros((len(sentences),len(sentences)))\n",
        "  for idx1 in range(len(sentences)):\n",
        "      for idx2 in range(len(sentences)):\n",
        "        if idx1!=idx2:\n",
        "          similarity_matrix[idx1][idx2] = sentence_similarity(sentences[idx1],sentences[idx2])\n",
        "  return similarity_matrix\n",
        "\n",
        "def generate_summary(sentences,top_n):  \n",
        "  summarize_text = []\n",
        "  # Read text and tokenize    \n",
        "  # Generate similarity matrix            \n",
        "  sentence_similarity_matrix = build_similarity_matrix(sentences)\n",
        "  # Rank sentences in similarity matrix\n",
        "  sentence_similarity_graph = nx.from_numpy_array(sentence_similarity_matrix)\n",
        "  scores = nx.pagerank(sentence_similarity_graph)\n",
        "  # Sort the rank and place top sentences\n",
        "  ranked_sentences = sorted(((scores[i],s) for i,s in enumerate(sentences)),reverse=True)\n",
        "  \n",
        "  # Get the top n number of sentences based on rank\n",
        "  for i in range(top_n):\n",
        "    summarize_text.append(ranked_sentences[i][1])\n",
        "  # Output the summarized version\n",
        "  return \" \".join(summarize_text)\n",
        "\n",
        "for index, row in df.iterrows():\n",
        "  sentences = sent_tokenize(row['text'])\n",
        "  val = math.ceil(len(sentences)*0.75)\n",
        "  df['text'][index] = generate_summary(sentences,val)"
      ],
      "metadata": {
        "id": "8KJswZlafUvn"
      },
      "execution_count": null,
      "outputs": []
    },
    {
      "cell_type": "markdown",
      "metadata": {
        "id": "rPH0hpdBOyHo"
      },
      "source": [
        "If the length of headlines or the text is kept large the deep learning model will face issues with performance and also training will slower.\n",
        "\n",
        "One solution for creating summary for long sentences can be break a paragraph into sentences and then create a summary for them, this way the summary will make sence instead of giving random piece of text and creating summary for it."
      ]
    },
    {
      "cell_type": "code",
      "execution_count": null,
      "metadata": {
        "id": "D4xNfVsUg5jg",
        "colab": {
          "base_uri": "https://localhost:8080/",
          "height": 223
        },
        "outputId": "da9298bc-db66-4f20-9aef-55a7ce6f9381"
      },
      "outputs": [
        {
          "output_type": "stream",
          "name": "stdout",
          "text": [
            "Dataset size: 100235\n"
          ]
        },
        {
          "output_type": "execute_result",
          "data": {
            "text/html": [
              "\n",
              "  <div id=\"df-65ed7427-565c-4ab6-ad80-36666c7b01d1\">\n",
              "    <div class=\"colab-df-container\">\n",
              "      <div>\n",
              "<style scoped>\n",
              "    .dataframe tbody tr th:only-of-type {\n",
              "        vertical-align: middle;\n",
              "    }\n",
              "\n",
              "    .dataframe tbody tr th {\n",
              "        vertical-align: top;\n",
              "    }\n",
              "\n",
              "    .dataframe thead th {\n",
              "        text-align: right;\n",
              "    }\n",
              "</style>\n",
              "<table border=\"1\" class=\"dataframe\">\n",
              "  <thead>\n",
              "    <tr style=\"text-align: right;\">\n",
              "      <th></th>\n",
              "      <th>text</th>\n",
              "      <th>summary</th>\n",
              "    </tr>\n",
              "  </thead>\n",
              "  <tbody>\n",
              "    <tr>\n",
              "      <th>20340</th>\n",
              "      <td>home minister rajnath singh sunday launched we...</td>\n",
              "      <td>sostok _START_ portal launched donate money yr...</td>\n",
              "    </tr>\n",
              "    <tr>\n",
              "      <th>62890</th>\n",
              "      <td>barcelona beat la liga champions real madrid e...</td>\n",
              "      <td>sostok _START_ messi scores barcelona beat ron...</td>\n",
              "    </tr>\n",
              "    <tr>\n",
              "      <th>49264</th>\n",
              "      <td>indian gymnast dipa karmakar finished fourth r...</td>\n",
              "      <td>sostok _START_ dipa karmakar ruled commonwealt...</td>\n",
              "    </tr>\n",
              "    <tr>\n",
              "      <th>76573</th>\n",
              "      <td>per reports actress katrina kaif turn producer...</td>\n",
              "      <td>sostok _START_ katrina turn producer launch si...</td>\n",
              "    </tr>\n",
              "    <tr>\n",
              "      <th>26504</th>\n",
              "      <td>many infrastructure projects worth aaa1 crore ...</td>\n",
              "      <td>sostok _START_ infra projects witness cost ove...</td>\n",
              "    </tr>\n",
              "  </tbody>\n",
              "</table>\n",
              "</div>\n",
              "      <button class=\"colab-df-convert\" onclick=\"convertToInteractive('df-65ed7427-565c-4ab6-ad80-36666c7b01d1')\"\n",
              "              title=\"Convert this dataframe to an interactive table.\"\n",
              "              style=\"display:none;\">\n",
              "        \n",
              "  <svg xmlns=\"http://www.w3.org/2000/svg\" height=\"24px\"viewBox=\"0 0 24 24\"\n",
              "       width=\"24px\">\n",
              "    <path d=\"M0 0h24v24H0V0z\" fill=\"none\"/>\n",
              "    <path d=\"M18.56 5.44l.94 2.06.94-2.06 2.06-.94-2.06-.94-.94-2.06-.94 2.06-2.06.94zm-11 1L8.5 8.5l.94-2.06 2.06-.94-2.06-.94L8.5 2.5l-.94 2.06-2.06.94zm10 10l.94 2.06.94-2.06 2.06-.94-2.06-.94-.94-2.06-.94 2.06-2.06.94z\"/><path d=\"M17.41 7.96l-1.37-1.37c-.4-.4-.92-.59-1.43-.59-.52 0-1.04.2-1.43.59L10.3 9.45l-7.72 7.72c-.78.78-.78 2.05 0 2.83L4 21.41c.39.39.9.59 1.41.59.51 0 1.02-.2 1.41-.59l7.78-7.78 2.81-2.81c.8-.78.8-2.07 0-2.86zM5.41 20L4 18.59l7.72-7.72 1.47 1.35L5.41 20z\"/>\n",
              "  </svg>\n",
              "      </button>\n",
              "      \n",
              "  <style>\n",
              "    .colab-df-container {\n",
              "      display:flex;\n",
              "      flex-wrap:wrap;\n",
              "      gap: 12px;\n",
              "    }\n",
              "\n",
              "    .colab-df-convert {\n",
              "      background-color: #E8F0FE;\n",
              "      border: none;\n",
              "      border-radius: 50%;\n",
              "      cursor: pointer;\n",
              "      display: none;\n",
              "      fill: #1967D2;\n",
              "      height: 32px;\n",
              "      padding: 0 0 0 0;\n",
              "      width: 32px;\n",
              "    }\n",
              "\n",
              "    .colab-df-convert:hover {\n",
              "      background-color: #E2EBFA;\n",
              "      box-shadow: 0px 1px 2px rgba(60, 64, 67, 0.3), 0px 1px 3px 1px rgba(60, 64, 67, 0.15);\n",
              "      fill: #174EA6;\n",
              "    }\n",
              "\n",
              "    [theme=dark] .colab-df-convert {\n",
              "      background-color: #3B4455;\n",
              "      fill: #D2E3FC;\n",
              "    }\n",
              "\n",
              "    [theme=dark] .colab-df-convert:hover {\n",
              "      background-color: #434B5C;\n",
              "      box-shadow: 0px 1px 3px 1px rgba(0, 0, 0, 0.15);\n",
              "      filter: drop-shadow(0px 1px 2px rgba(0, 0, 0, 0.3));\n",
              "      fill: #FFFFFF;\n",
              "    }\n",
              "  </style>\n",
              "\n",
              "      <script>\n",
              "        const buttonEl =\n",
              "          document.querySelector('#df-65ed7427-565c-4ab6-ad80-36666c7b01d1 button.colab-df-convert');\n",
              "        buttonEl.style.display =\n",
              "          google.colab.kernel.accessAllowed ? 'block' : 'none';\n",
              "\n",
              "        async function convertToInteractive(key) {\n",
              "          const element = document.querySelector('#df-65ed7427-565c-4ab6-ad80-36666c7b01d1');\n",
              "          const dataTable =\n",
              "            await google.colab.kernel.invokeFunction('convertToInteractive',\n",
              "                                                     [key], {});\n",
              "          if (!dataTable) return;\n",
              "\n",
              "          const docLinkHtml = 'Like what you see? Visit the ' +\n",
              "            '<a target=\"_blank\" href=https://colab.research.google.com/notebooks/data_table.ipynb>data table notebook</a>'\n",
              "            + ' to learn more about interactive tables.';\n",
              "          element.innerHTML = '';\n",
              "          dataTable['output_type'] = 'display_data';\n",
              "          await google.colab.output.renderOutput(dataTable, element);\n",
              "          const docLink = document.createElement('div');\n",
              "          docLink.innerHTML = docLinkHtml;\n",
              "          element.appendChild(docLink);\n",
              "        }\n",
              "      </script>\n",
              "    </div>\n",
              "  </div>\n",
              "  "
            ],
            "text/plain": [
              "                                                    text                                            summary\n",
              "20340  home minister rajnath singh sunday launched we...  sostok _START_ portal launched donate money yr...\n",
              "62890  barcelona beat la liga champions real madrid e...  sostok _START_ messi scores barcelona beat ron...\n",
              "49264  indian gymnast dipa karmakar finished fourth r...  sostok _START_ dipa karmakar ruled commonwealt...\n",
              "76573  per reports actress katrina kaif turn producer...  sostok _START_ katrina turn producer launch si...\n",
              "26504  many infrastructure projects worth aaa1 crore ...  sostok _START_ infra projects witness cost ove..."
            ]
          },
          "metadata": {},
          "execution_count": 28
        }
      ],
      "source": [
        "max_text_len = 42\n",
        "max_summary_len = 13\n",
        "\n",
        "def trim_text_and_summary(df, max_text_len, max_summary_len):\n",
        "    cleaned_text = np.array(df['text'])\n",
        "    cleaned_summary = np.array(df['headlines'])\n",
        "\n",
        "    short_text = []\n",
        "    short_summary = []\n",
        "\n",
        "    for i in range(len(cleaned_text)):\n",
        "        if len(cleaned_text[i].split()) <= max_text_len and len(\n",
        "            cleaned_summary[i].split()\n",
        "        ) <= max_summary_len:\n",
        "            short_text.append(cleaned_text[i])\n",
        "            short_summary.append(cleaned_summary[i])\n",
        "\n",
        "    df = pd.DataFrame({'text': short_text, 'summary': short_summary})\n",
        "    return df\n",
        "\n",
        "\n",
        "df = trim_text_and_summary(df, max_text_len, max_summary_len)\n",
        "print(f'Dataset size: {len(df)}')\n",
        "df.sample(5)"
      ]
    },
    {
      "cell_type": "markdown",
      "metadata": {
        "id": "gYIKxwFtO6Oa"
      },
      "source": [
        "### Rare word analysis"
      ]
    },
    {
      "cell_type": "code",
      "execution_count": null,
      "metadata": {
        "id": "xIiqQwxHg_Xs"
      },
      "outputs": [],
      "source": [
        "def get_rare_word_percent(tokenizer, threshold):\n",
        "    # Threshold: If the word's occurrence is less than this then it's rare word\n",
        "\n",
        "    count = 0\n",
        "    total_count = 0\n",
        "    frequency = 0\n",
        "    total_frequency = 0\n",
        "\n",
        "    for key, value in tokenizer.word_counts.items():\n",
        "        total_count += 1\n",
        "        total_frequency += value\n",
        "        if value < threshold:\n",
        "            count += 1\n",
        "            frequency += value\n",
        "\n",
        "    return {\n",
        "        'percent': round((count / total_count) * 100, 2),\n",
        "        'total_coverage': round(frequency / total_frequency * 100, 2),\n",
        "        'count': count,\n",
        "        'total_count': total_count\n",
        "    }"
      ]
    },
    {
      "cell_type": "markdown",
      "metadata": {
        "id": "COCx_RZbO_aD"
      },
      "source": [
        "### Splitting the training and validation sets"
      ]
    },
    {
      "cell_type": "code",
      "execution_count": null,
      "metadata": {
        "id": "hDtQwQzThCHG"
      },
      "outputs": [],
      "source": [
        "x_train, x_val, y_train, y_val = train_test_split(\n",
        "    np.array(df['text']),\n",
        "    np.array(df['summary']),\n",
        "    test_size=0.1,\n",
        "    random_state=1,\n",
        "    shuffle=True\n",
        ")"
      ]
    },
    {
      "cell_type": "markdown",
      "metadata": {
        "id": "FLLq4wWuPDQh"
      },
      "source": [
        "### Tokenizing text and summary\n",
        "\n",
        "Tokenize the text and summary data and pad them to match with maximum length.\n",
        "\n"
      ]
    },
    {
      "cell_type": "code",
      "execution_count": null,
      "metadata": {
        "id": "xH7KbHkJhD3C"
      },
      "outputs": [],
      "source": [
        "x_tokenizer = Tokenizer()\n",
        "x_tokenizer.fit_on_texts(list(x_train))\n",
        "\n",
        "x_tokens_data = get_rare_word_percent(x_tokenizer, 4)\n",
        "\n",
        "# One-hot-encoding\n",
        "x_train_sequence = x_tokenizer.texts_to_sequences(x_train)\n",
        "x_val_sequence = x_tokenizer.texts_to_sequences(x_val)\n",
        "\n",
        "# Padding upto max_text_len\n",
        "x_train_padded = pad_sequences(x_train_sequence, maxlen=max_text_len, padding='post')\n",
        "x_val_padded = pad_sequences(x_val_sequence, maxlen=max_text_len, padding='post')\n",
        "\n",
        "x_vocab_size = len(x_tokenizer.word_index) + 1\n",
        "\n",
        "\n",
        "y_tokenizer = Tokenizer()\n",
        "y_tokenizer.fit_on_texts(list(y_train))\n",
        "\n",
        "y_tokens_data = get_rare_word_percent(y_tokenizer, 6)\n",
        "\n",
        "y_train_sequence = y_tokenizer.texts_to_sequences(y_train)\n",
        "y_val_sequence = y_tokenizer.texts_to_sequences(y_val)\n",
        "\n",
        "# Padding upto max_summary_len\n",
        "y_train_padded = pad_sequences(y_train_sequence, maxlen=max_summary_len, padding='post')\n",
        "y_val_padded = pad_sequences(y_val_sequence, maxlen=max_summary_len, padding='post')\n",
        "\n",
        "y_vocab_size = len(y_tokenizer.word_index) + 1"
      ]
    },
    {
      "cell_type": "markdown",
      "metadata": {
        "id": "-kpoyBlLcrS4"
      },
      "source": [
        "### Removing Empty Texts and Summaries\n",
        "Removing all empty summaries (which only have START and END tokens) and their associated texts from the data."
      ]
    },
    {
      "cell_type": "code",
      "execution_count": null,
      "metadata": {
        "id": "Iix0qkX9hT20"
      },
      "outputs": [],
      "source": [
        "def remove_indexes(summary_array):\n",
        "    remove_indexes = []\n",
        "    for i in range(len(summary_array)):\n",
        "        count = 0\n",
        "        for j in summary_array[i]:\n",
        "            if j != 0:\n",
        "                count += 1\n",
        "        if count == 2:\n",
        "            remove_indexes.append(i)\n",
        "    return remove_indexes\n",
        "\n",
        "\n",
        "remove_train_indexes = remove_indexes(y_train_padded)\n",
        "remove_val_indexes = remove_indexes(y_val_padded)\n",
        "\n",
        "y_train_padded = np.delete(y_train_padded, remove_train_indexes, axis=0)\n",
        "x_train_padded = np.delete(x_train_padded, remove_train_indexes, axis=0)\n",
        "\n",
        "y_val_padded = np.delete(y_val_padded, remove_val_indexes, axis=0)\n",
        "x_val_padded = np.delete(x_val_padded, remove_val_indexes, axis=0)"
      ]
    },
    {
      "cell_type": "markdown",
      "metadata": {
        "id": "L8GDDRSZTzLe"
      },
      "source": [
        "### Preparing embedding matrix\n",
        "\n",
        "Using pre-trained embeddings and keeping the Embedding layer non-trainable we get increase in computation speed as don't need to compute the embedding matrix. So we are using glove embeddings.\n"
      ]
    },
    {
      "cell_type": "code",
      "execution_count": null,
      "metadata": {
        "id": "Id2uN3kWhVyi",
        "colab": {
          "base_uri": "https://localhost:8080/"
        },
        "outputId": "ef684bc3-09bd-48b3-e0eb-bf54193a1d07"
      },
      "outputs": [
        {
          "output_type": "stream",
          "name": "stdout",
          "text": [
            "Found 400000 word vectors.\n",
            "Converted 55325 words (44541 misses)\n",
            "Found 400000 word vectors.\n",
            "Converted 27057 words (10355 misses)\n"
          ]
        }
      ],
      "source": [
        "latent_dim = 240\n",
        "embedding_dim = 300\n",
        "num_epochs = 50\n",
        "\n",
        "def get_embedding_matrix(tokenizer, embedding_dim, vocab_size=None):\n",
        "    word_index = tokenizer.word_index\n",
        "    voc = list(word_index.keys())\n",
        "\n",
        "    path_to_glove_file = '/content/drive/MyDrive/glove.6B.300d.txt'\n",
        "\n",
        "    embeddings_index = {}\n",
        "    with open(path_to_glove_file) as f:\n",
        "        for line in f:\n",
        "            word, coefs = line.split(maxsplit=1)\n",
        "            coefs = np.fromstring(coefs, \"f\", sep=\" \")\n",
        "            embeddings_index[word] = coefs\n",
        "\n",
        "    print(\"Found %s word vectors.\" % len(embeddings_index))\n",
        "\n",
        "    num_tokens = len(voc) + 2 if not vocab_size else vocab_size\n",
        "    hits = 0\n",
        "    misses = 0\n",
        "\n",
        "    # Prepare embedding matrix\n",
        "    embedding_matrix = np.zeros((num_tokens, embedding_dim))\n",
        "    for word, i in word_index.items():\n",
        "        embedding_vector = embeddings_index.get(word)\n",
        "        if embedding_vector is not None:\n",
        "            # Words not found in embedding index will be all-zeros.\n",
        "            # This includes the representation for \"padding\" and \"OOV\"\n",
        "            embedding_matrix[i] = embedding_vector\n",
        "            hits += 1\n",
        "        else:\n",
        "            misses += 1\n",
        "    print(\"Converted %d words (%d misses)\" % (hits, misses))\n",
        "\n",
        "    return embedding_matrix\n",
        "\n",
        "\n",
        "x_embedding_matrix = get_embedding_matrix(x_tokenizer, embedding_dim, x_vocab_size)\n",
        "y_embedding_matrix = get_embedding_matrix(y_tokenizer, embedding_dim, y_vocab_size)"
      ]
    },
    {
      "cell_type": "code",
      "source": [
        "print(x_embedding_matrix.shape)\n",
        "print(y_embedding_matrix.shape)"
      ],
      "metadata": {
        "colab": {
          "base_uri": "https://localhost:8080/"
        },
        "id": "v5GCmx_4iMHs",
        "outputId": "4e14ed97-1baf-4384-f4ea-7ecd0b71a1b8"
      },
      "execution_count": null,
      "outputs": [
        {
          "output_type": "stream",
          "name": "stdout",
          "text": [
            "(99867, 300)\n",
            "(37413, 300)\n"
          ]
        }
      ]
    },
    {
      "cell_type": "markdown",
      "metadata": {
        "id": "49OORbiuUA_V"
      },
      "source": [
        "## Abstractive summarizer model\n",
        "\n",
        "**Seq2Seq model with just LSTMs**. Both `encoder` and `decoder` have just `LSTM`s.\n",
        "### Encoder:\n",
        "The input length that the encoder accepts is equal to the maximum text length is already calculated in the above steps. This is then given to an Embedding Layer of dimension 300. This is followed by 2 LSTM networks wherein each layer returns the LSTM output, as well as the hidden and cell states observed at the previous time steps.\n",
        "\n",
        "### Decoder:\n",
        "In the decoder, an embedding layer is defined followed by an LSTM network. The initial state of the LSTM network is the last hidden and cell states taken from the encoder. The output of the LSTM is given to a Dense layer wrapped in a TimeDistributed layer with an attached softmax activation function.\n",
        "\n",
        "Altogether, the model accepts encoder (text) and decoder (summary) as input and it outputs the summary. The prediction happens through predicting the upcoming word of the summary from the previous word of the summary.\n"
      ]
    },
    {
      "cell_type": "code",
      "execution_count": null,
      "metadata": {
        "id": "Qi0YM4c2hacF"
      },
      "outputs": [],
      "source": [
        "def build_seq2seq_model(\n",
        "    embedding_dim, latent_dim, max_text_len, \n",
        "    x_vocab_size, y_vocab_size,\n",
        "    x_embedding_matrix, y_embedding_matrix\n",
        "):\n",
        "    with strategy.scope():\n",
        "\n",
        "        # Encoder\n",
        "        encoder_input = Input(shape=(max_text_len, ))\n",
        "\n",
        "        # Encoder embedding layer\n",
        "        encoder_embedding = Embedding(\n",
        "            x_vocab_size,\n",
        "            embedding_dim,\n",
        "            embeddings_initializer=tf.keras.initializers.Constant(x_embedding_matrix),\n",
        "            trainable=False\n",
        "        )(encoder_input)\n",
        "\n",
        "        # Encoder lstm 1\n",
        "        encoder_lstm1 = LSTM(\n",
        "            latent_dim,\n",
        "            return_sequences=True,\n",
        "            return_state=True,\n",
        "            dropout=0.4,\n",
        "            recurrent_dropout=0.4\n",
        "        )\n",
        "        encoder_output1, state_h1, state_c1 = encoder_lstm1(encoder_embedding)\n",
        "\n",
        "        # Encoder lstm 2\n",
        "        encoder_lstm2 = LSTM(\n",
        "            latent_dim,\n",
        "            return_sequences=True,\n",
        "            return_state=True,\n",
        "            dropout=0.4,\n",
        "            recurrent_dropout=0.4\n",
        "        )\n",
        "        encoder_output, *encoder_final_states = encoder_lstm2(encoder_output1)\n",
        "\n",
        "        # Decoder\n",
        "\n",
        "        # Set up the decoder, using encoder_states as initial state.\n",
        "\n",
        "        decoder_input = Input(shape=(None, ))\n",
        "\n",
        "        # Decoder embedding layer\n",
        "        decoder_embedding_layer = Embedding(\n",
        "            y_vocab_size,\n",
        "            embedding_dim,\n",
        "            embeddings_initializer=tf.keras.initializers.Constant(y_embedding_matrix),\n",
        "            trainable=True\n",
        "        )\n",
        "        decoder_embedding = decoder_embedding_layer(decoder_input)\n",
        "\n",
        "        # Decoder lstm 1\n",
        "        decoder_lstm = LSTM(\n",
        "            latent_dim,\n",
        "            return_sequences=True,\n",
        "            return_state=True,\n",
        "            dropout=0.4,\n",
        "            recurrent_dropout=0.4\n",
        "        )\n",
        "        decoder_output, *decoder_final_states = decoder_lstm(\n",
        "            decoder_embedding, initial_state=encoder_final_states\n",
        "        )\n",
        "\n",
        "        # Dense layer\n",
        "        decoder_dense = TimeDistributed(\n",
        "            Dense(y_vocab_size, activation='softmax')\n",
        "        )\n",
        "        decoder_output = decoder_dense(decoder_output)\n",
        "\n",
        "        # Model\n",
        "        model = Model([encoder_input, decoder_input], decoder_output)\n",
        "        model.summary()\n",
        "\n",
        "        optimizer = tf.keras.optimizers.RMSprop(learning_rate=0.001)\n",
        "        model.compile(\n",
        "            optimizer=optimizer,\n",
        "            loss='sparse_categorical_crossentropy',\n",
        "            metrics=['accuracy']\n",
        "        )\n",
        "\n",
        "        return {\n",
        "            'model': model,\n",
        "            'inputs': {\n",
        "                'encoder': encoder_input,\n",
        "                'decoder': decoder_input\n",
        "            },\n",
        "            'outputs': {\n",
        "                'encoder': encoder_output,\n",
        "                'decoder': decoder_output\n",
        "            },\n",
        "            'states': {\n",
        "                'encoder': encoder_final_states,\n",
        "                'decoder': decoder_final_states\n",
        "            },\n",
        "            'layers': {\n",
        "                'decoder': {\n",
        "                    'embedding': decoder_embedding_layer,\n",
        "                    'last_decoder_lstm': decoder_lstm,\n",
        "                    'dense': decoder_dense\n",
        "                }\n",
        "            }\n",
        "        }"
      ]
    },
    {
      "cell_type": "markdown",
      "metadata": {
        "id": "D-NiNtGoVWaW"
      },
      "source": [
        "### Model summary"
      ]
    },
    {
      "cell_type": "code",
      "execution_count": null,
      "metadata": {
        "id": "8SyB4v6LhcpH",
        "colab": {
          "base_uri": "https://localhost:8080/"
        },
        "outputId": "8a5de72b-1c63-40ba-db50-2a66806eba2a"
      },
      "outputs": [
        {
          "output_type": "stream",
          "name": "stdout",
          "text": [
            "WARNING:tensorflow:Layer lstm will not use cuDNN kernels since it doesn't meet the criteria. It will use a generic GPU kernel as fallback when running on GPU.\n",
            "WARNING:tensorflow:Layer lstm_1 will not use cuDNN kernels since it doesn't meet the criteria. It will use a generic GPU kernel as fallback when running on GPU.\n",
            "WARNING:tensorflow:Layer lstm_2 will not use cuDNN kernels since it doesn't meet the criteria. It will use a generic GPU kernel as fallback when running on GPU.\n",
            "Model: \"model\"\n",
            "__________________________________________________________________________________________________\n",
            " Layer (type)                   Output Shape         Param #     Connected to                     \n",
            "==================================================================================================\n",
            " input_1 (InputLayer)           [(None, 42)]         0           []                               \n",
            "                                                                                                  \n",
            " embedding_2 (Embedding)        (None, 42, 300)      29960100    ['input_1[0][0]']                \n",
            "                                                                                                  \n",
            " input_2 (InputLayer)           [(None, None)]       0           []                               \n",
            "                                                                                                  \n",
            " lstm (LSTM)                    [(None, 42, 240),    519360      ['embedding_2[0][0]']            \n",
            "                                 (None, 240),                                                     \n",
            "                                 (None, 240)]                                                     \n",
            "                                                                                                  \n",
            " embedding_3 (Embedding)        (None, None, 300)    11223900    ['input_2[0][0]']                \n",
            "                                                                                                  \n",
            " lstm_1 (LSTM)                  [(None, 42, 240),    461760      ['lstm[0][0]']                   \n",
            "                                 (None, 240),                                                     \n",
            "                                 (None, 240)]                                                     \n",
            "                                                                                                  \n",
            " lstm_2 (LSTM)                  [(None, None, 240),  519360      ['embedding_3[0][0]',            \n",
            "                                 (None, 240),                     'lstm_1[0][1]',                 \n",
            "                                 (None, 240)]                     'lstm_1[0][2]']                 \n",
            "                                                                                                  \n",
            " time_distributed (TimeDistribu  (None, None, 37413)  9016533    ['lstm_2[0][0]']                 \n",
            " ted)                                                                                             \n",
            "                                                                                                  \n",
            "==================================================================================================\n",
            "Total params: 51,701,013\n",
            "Trainable params: 21,740,913\n",
            "Non-trainable params: 29,960,100\n",
            "__________________________________________________________________________________________________\n",
            "INFO:tensorflow:Reduce to /job:localhost/replica:0/task:0/device:CPU:0 then broadcast to ('/job:localhost/replica:0/task:0/device:CPU:0',).\n",
            "INFO:tensorflow:Reduce to /job:localhost/replica:0/task:0/device:CPU:0 then broadcast to ('/job:localhost/replica:0/task:0/device:CPU:0',).\n",
            "INFO:tensorflow:Reduce to /job:localhost/replica:0/task:0/device:CPU:0 then broadcast to ('/job:localhost/replica:0/task:0/device:CPU:0',).\n",
            "INFO:tensorflow:Reduce to /job:localhost/replica:0/task:0/device:CPU:0 then broadcast to ('/job:localhost/replica:0/task:0/device:CPU:0',).\n"
          ]
        }
      ],
      "source": [
        "seq2seq = build_seq2seq_model(\n",
        "    embedding_dim, latent_dim, max_text_len, \n",
        "    x_vocab_size, y_vocab_size,\n",
        "    x_embedding_matrix, y_embedding_matrix\n",
        ") "
      ]
    },
    {
      "cell_type": "code",
      "execution_count": null,
      "metadata": {
        "id": "nGxxAuv_hePc"
      },
      "outputs": [],
      "source": [
        "model = seq2seq['model']\n",
        "\n",
        "encoder_input = seq2seq['inputs']['encoder']\n",
        "decoder_input = seq2seq['inputs']['decoder']\n",
        "\n",
        "encoder_output = seq2seq['outputs']['encoder']\n",
        "decoder_output = seq2seq['outputs']['decoder']\n",
        "\n",
        "encoder_final_states = seq2seq['states']['encoder']\n",
        "decoder_final_states = seq2seq['states']['decoder']\n",
        "\n",
        "decoder_embedding_layer = seq2seq['layers']['decoder']['embedding']\n",
        "last_decoder_lstm = seq2seq['layers']['decoder']['last_decoder_lstm']\n",
        "decoder_dense = seq2seq['layers']['decoder']['dense']"
      ]
    },
    {
      "cell_type": "markdown",
      "metadata": {
        "id": "YhmV00G0XJP3"
      },
      "source": [
        "### Training the Model\n",
        "Compile the model and define `EarlyStopping` to stop training the model once the validation loss metric has stopped decreasing."
      ]
    },
    {
      "cell_type": "code",
      "execution_count": null,
      "metadata": {
        "id": "cgOjL9N7hf-K"
      },
      "outputs": [],
      "source": [
        "callbacks = [\n",
        "    EarlyStopping(monitor='val_loss', mode='min', verbose=1, patience=2),\n",
        "    ReduceLROnPlateau(monitor='val_loss', factor=0.1, patience=2, min_lr=0.000001, verbose=1),\n",
        "]"
      ]
    },
    {
      "cell_type": "markdown",
      "metadata": {
        "id": "aO6W7Bf-WC2Z"
      },
      "source": [
        "### Fitting the model\n",
        "\n",
        "Using the model.fit() method to fit the training data where we can define the batch size to be 128. Send the text and summary (excluding the last word in summary) as the input, and a reshaped summary tensor comprising every word (starting from the second word) as the output (which explains the infusion of intelligence into the model to predict a word, given the previous word). Besides, to enable validation during the training phase, send the validation data as well."
      ]
    },
    {
      "cell_type": "code",
      "execution_count": null,
      "metadata": {
        "id": "O62fuf6xhg8S",
        "colab": {
          "base_uri": "https://localhost:8080/"
        },
        "outputId": "ed93622d-bc52-4110-c2fd-246480adff24"
      },
      "outputs": [
        {
          "output_type": "stream",
          "name": "stdout",
          "text": [
            "Epoch 1/2\n",
            "705/705 [==============================] - 576s 816ms/step - loss: 3.7647 - accuracy: 0.4961 - val_loss: 3.6663 - val_accuracy: 0.5070 - lr: 0.0010\n",
            "Epoch 2/2\n",
            "705/705 [==============================] - 603s 855ms/step - loss: 3.6947 - accuracy: 0.5026 - val_loss: 3.6252 - val_accuracy: 0.5113 - lr: 0.0010\n"
          ]
        }
      ],
      "source": [
        "checkpoint_dir_summ = '/content/drive/MyDrive/abstractive_model'\n",
        "checkpoint_prefix_summ = os.path.join(checkpoint_dir_summ, \"ckpt\")\n",
        "# model.load_weights(checkpoint_prefix_summ)\n",
        "\n",
        "history = model.fit(\n",
        "    [x_train_padded, y_train_padded[:, :-1]],\n",
        "    y_train_padded.reshape(y_train_padded.shape[0], y_train_padded.shape[1], 1)[:, 1:],\n",
        "    epochs = 2,\n",
        "    batch_size=128 * strategy.num_replicas_in_sync,\n",
        "    callbacks=callbacks,\n",
        "    validation_data=(\n",
        "        [x_val_padded, y_val_padded[:, :-1]],\n",
        "        y_val_padded.reshape(y_val_padded.shape[0], y_val_padded.shape[1], 1)[:, 1:]\n",
        "    )\n",
        "\n",
        ")\n",
        "\n",
        "model.save_weights(checkpoint_prefix_summ)"
      ]
    },
    {
      "cell_type": "markdown",
      "metadata": {
        "id": "zno61n0SWFfs"
      },
      "source": [
        "### Plotting model performance's\n",
        "\n",
        "Plotting the training and validation loss metrics and accuracies observed during the training phase.\n",
        "\n",
        "Since we are running from the saved checkpoint, the accuracy and loss graphs are not accurately shown. "
      ]
    },
    {
      "cell_type": "code",
      "execution_count": null,
      "metadata": {
        "id": "AeSO8H8yhjoD"
      },
      "outputs": [],
      "source": [
        "# Accuracy\n",
        "#plt.plot(history.history['accuracy'][1:], label='train acc')\n",
        "#plt.plot(history.history['val_accuracy'], label='val')\n",
        "#plt.xlabel('Epoch')\n",
        "#plt.ylabel('Accuracy')\n",
        "#plt.legend(loc='lower right')"
      ]
    },
    {
      "cell_type": "code",
      "execution_count": null,
      "metadata": {
        "id": "bcMvtLN5hli7"
      },
      "outputs": [],
      "source": [
        "# Loss\n",
        "#plt.plot(history.history['loss'][1:], label='train loss')\n",
        "#plt.plot(history.history['val_loss'], label='val')\n",
        "#plt.xlabel('Epoch')\n",
        "#plt.ylabel('Loss')\n",
        "#plt.legend(loc='upper right')"
      ]
    },
    {
      "cell_type": "markdown",
      "metadata": {
        "id": "d0fKmlvaX_1r"
      },
      "source": [
        "### Generating Predictions\n",
        "\n",
        "Now that we've trained the model, to generate summaries from the given pieces of text, first reverse map the indices to the words (which has been previously generated using texts_to_sequences). Also, map the words to indices from the summaries tokenizer which is to be used to detect the start and end of the sequences."
      ]
    },
    {
      "cell_type": "code",
      "execution_count": null,
      "metadata": {
        "id": "IT5_phqEho2d"
      },
      "outputs": [],
      "source": [
        "reverse_target_word_index = y_tokenizer.index_word\n",
        "reverse_source_word_index = x_tokenizer.index_word\n",
        "target_word_index = y_tokenizer.word_index"
      ]
    },
    {
      "cell_type": "markdown",
      "metadata": {
        "id": "B5IG1hwNWShA"
      },
      "source": [
        "### Inference phase\n",
        "Now the encoder and decoder inference models are defined to start making the predictions using the tensorflow.keras.Model() object.</br>\n",
        "An encoder inference model accepts text and returns the output generated from the LSTMs, and hidden and cell states. A decoder inference model accepts the start of the sequence identifier (sostok) and predicts the upcoming word, eventually leading to predicting the whole summary."
      ]
    },
    {
      "cell_type": "code",
      "execution_count": null,
      "metadata": {
        "id": "pi9nGYuPhp4M"
      },
      "outputs": [],
      "source": [
        "def build_seq2seq_model_inference(\n",
        "    max_text_len, latent_dim, encoder_input, encoder_output,\n",
        "    encoder_final_states, decoder_input, decoder_output,\n",
        "    decoder_embedding_layer, decoder_dense, last_decoder_lstm\n",
        "):\n",
        "    # Encode the input sequence to get the feature vector\n",
        "    encoder_model = Model(\n",
        "        inputs=encoder_input, outputs=[encoder_output] + encoder_final_states\n",
        "    )\n",
        "\n",
        "    # Decoder setup\n",
        "    # Below tensors will hold the states of the previous time step\n",
        "    decoder_state_input_h = Input(shape=(latent_dim, ))\n",
        "    decoder_state_input_c = Input(shape=(latent_dim, ))\n",
        "    decoder_hidden_state_input = Input(shape=(max_text_len, latent_dim))\n",
        "\n",
        "    # Get the embeddings of the decoder sequence\n",
        "    decoder_embedding = decoder_embedding_layer(decoder_input)\n",
        "\n",
        "    # To predict the next word in the sequence, set the initial\n",
        "    # states to the states from the previous time step\n",
        "    decoder_output, *decoder_states = last_decoder_lstm(\n",
        "        decoder_embedding,\n",
        "        initial_state=[decoder_state_input_h, decoder_state_input_c]\n",
        "    )\n",
        "\n",
        "    # A dense softmax layer to generate prob dist. over the target vocabulary\n",
        "    decoder_output = decoder_dense(decoder_output)\n",
        "\n",
        "    # Final decoder model\n",
        "    decoder_model = Model(\n",
        "        [decoder_input] + [decoder_hidden_state_input, decoder_state_input_h, decoder_state_input_c], \n",
        "        [decoder_output] + decoder_states\n",
        "    )\n",
        "\n",
        "    return (encoder_model, decoder_model)"
      ]
    },
    {
      "cell_type": "code",
      "execution_count": null,
      "metadata": {
        "id": "G0VXdwtRiNqA"
      },
      "outputs": [],
      "source": [
        "encoder_model, decoder_model = build_seq2seq_model_inference(\n",
        "    max_text_len, latent_dim, encoder_input, encoder_output,\n",
        "    encoder_final_states, decoder_input, decoder_output,\n",
        "    decoder_embedding_layer, decoder_dense, last_decoder_lstm\n",
        ")"
      ]
    },
    {
      "cell_type": "markdown",
      "metadata": {
        "id": "2F3DxKFVY2Ce"
      },
      "source": [
        "Now a function decode_sequence_seq2seq_model() is defined which accepts the input text and outputs the predicted summary. Starts with sostok and continues generating words until eostok is encountered or the maximum length of the summary is reached. Predicts the upcoming word from a given word by choosing the word which has the maximum probability attached and updates the internal state of the decoder accordingly."
      ]
    },
    {
      "cell_type": "code",
      "execution_count": null,
      "metadata": {
        "id": "cF_eFpGLiY3h"
      },
      "outputs": [],
      "source": [
        "def decode_sequence_seq2seq_model(\n",
        "    input_sequence, encoder_model, decoder_model\n",
        "):\n",
        "    # Encode the input as state vectors.\n",
        "    e_out, e_h, e_c = encoder_model.predict(input_sequence)\n",
        "\n",
        "    # Generate empty target sequence of length 1.\n",
        "    target_seq = np.zeros((1, 1))\n",
        "\n",
        "    # Populate the first word of target sequence with the start word.\n",
        "    target_seq[0, 0] = target_word_index[start_token]\n",
        "\n",
        "    stop_condition = False\n",
        "    decoded_sentence = ''\n",
        "\n",
        "    while not stop_condition:\n",
        "        output_tokens, h, c = decoder_model.predict(\n",
        "            [target_seq] + [e_out, e_h, e_c]\n",
        "        )\n",
        "\n",
        "        # Sample a token\n",
        "        sampled_token_index = np.argmax(output_tokens[0, -1, :])\n",
        "        sampled_token = reverse_target_word_index[sampled_token_index]\n",
        "\n",
        "        if sampled_token != end_token:\n",
        "            decoded_sentence += ' ' + sampled_token\n",
        "\n",
        "        # Exit condition: either hit max length or find stop word.\n",
        "        if (sampled_token == end_token) or (len(decoded_sentence.split()) >= (max_summary_len - 1)):\n",
        "            stop_condition = True\n",
        "\n",
        "        # Update the target sequence (of length 1).\n",
        "        target_seq = np.zeros((1, 1))\n",
        "        target_seq[0, 0] = sampled_token_index\n",
        "\n",
        "        # Update internal states\n",
        "        e_h, e_c = h, c\n",
        "\n",
        "    return decoded_sentence"
      ]
    },
    {
      "cell_type": "markdown",
      "metadata": {
        "id": "F27lrPUNVL5n"
      },
      "source": [
        "\n",
        "seq2summary() converts numeric-representation to string-representation of summary."
      ]
    },
    {
      "cell_type": "code",
      "execution_count": null,
      "metadata": {
        "id": "uD7qaHJuibjj"
      },
      "outputs": [],
      "source": [
        "def seq2summary(input_sequence):\n",
        "    new_string = ''\n",
        "    for i in input_sequence:\n",
        "        if (\n",
        "            (i != 0 and i != target_word_index[start_token]) and\n",
        "            (i != target_word_index[end_token])\n",
        "        ):\n",
        "            new_string = new_string + reverse_target_word_index[i] + ' '\n",
        "    return new_string"
      ]
    },
    {
      "cell_type": "markdown",
      "metadata": {
        "id": "2W9EphC1VG5j"
      },
      "source": [
        "seq2text() converts numeric-representation to string-representation of text."
      ]
    },
    {
      "cell_type": "code",
      "execution_count": null,
      "metadata": {
        "id": "xPhKiLlLib9L"
      },
      "outputs": [],
      "source": [
        "def seq2text(input_sequence):\n",
        "    new_string = ''\n",
        "    for i in input_sequence:\n",
        "        if i != 0:\n",
        "            new_string = new_string + reverse_source_word_index[i] + ' '\n",
        "    return new_string"
      ]
    },
    {
      "cell_type": "markdown",
      "metadata": {
        "id": "OmzDVAvfUrMI"
      },
      "source": [
        "### Predictions \n"
      ]
    },
    {
      "cell_type": "code",
      "execution_count": null,
      "metadata": {
        "id": "sinE48dMig3N"
      },
      "outputs": [],
      "source": [
        "def predict_text(text, decode_sequence, encoder_model, decoder_model):\n",
        "    original_text = text\n",
        "    text = clean_text([text])  \n",
        "    text_list = original_text.split()\n",
        "\n",
        "    if len(text_list) <= max_text_len:\n",
        "        text = expand_contractions(text)\n",
        "        text = clean_text(text)\n",
        "        text = f'_START_ {text} _END_'\n",
        "        text = f'{start_token} {text} {end_token}'\n",
        "\n",
        "        seq = x_tokenizer.texts_to_sequences([' '.join(text_list)])\n",
        "        padded = pad_sequences(seq, maxlen=max_text_len, padding='post')\n",
        "        pred_summary = decode_sequence(\n",
        "            padded.reshape(1, max_text_len), encoder_model, decoder_model\n",
        "        )\n",
        "        return pred_summary\n",
        "    else:\n",
        "        pred_summary = ''\n",
        "\n",
        "        # Breaking long texts to individual max_text_len texts and predicting on them\n",
        "        while len(text_list) % max_text_len == 0:\n",
        "            text_list.append('')\n",
        "\n",
        "        lst_i = max_text_len\n",
        "        for i in range(0, len(text_list), max_text_len):\n",
        "            _text_list = original_text.split()[i:i + lst_i]\n",
        "            _text = ' '.join(_text_list)\n",
        "            _text = ' '.join(\n",
        "                _text.split()\n",
        "            )  # To remove spaces that were added to make len(text_list) % max_text_len == 0\n",
        "\n",
        "            _text = expand_contractions(_text)\n",
        "            _text = clean_text(_text)  \n",
        "            _text = f'_START_ {_text} _END_'\n",
        "            _text = f'{start_token} {_text} {end_token}'\n",
        "\n",
        "            _seq = x_tokenizer.texts_to_sequences([_text])\n",
        "            _padded = pad_sequences(_seq, maxlen=max_text_len, padding='post')\n",
        "            _pred = decode_sequence(\n",
        "                _padded.reshape(1, max_text_len), encoder_model, decoder_model\n",
        "            )\n",
        "            pred_summary += ' ' + ' '.join(_pred.split()[1:-2])\n",
        "            pred_summary = ' '.join(pred_summary.split())\n",
        "\n",
        "        return pred_summary"
      ]
    },
    {
      "cell_type": "markdown",
      "metadata": {
        "id": "oaBaltQxU-hH"
      },
      "source": [
        "\n",
        "Predicting the summary and printing it along with news and orginal summary"
      ]
    },
    {
      "cell_type": "code",
      "execution_count": null,
      "metadata": {
        "id": "TckeE0n7iiTE",
        "colab": {
          "base_uri": "https://localhost:8080/"
        },
        "outputId": "d44f137f-c281-41f7-bd3b-cb31a1dec41b"
      },
      "outputs": [
        {
          "output_type": "stream",
          "name": "stdout",
          "text": [
            "# 1 News:  maharashtra forest minister sudhir mungantiwar wednesday told legislative council government planning relocate tigers vidarbha region sanctuaries tiger population smaller added deaths tigers happen due territorial fights caused overpopulation committee reportedly formed examine proposal \n",
            "Original summary:  start maharashtra government considers relocating tigers end \n",
            "Predicted summary:   start maha govt seeks action farmers maha cm end\n",
            "\n",
            "# 2 News:  former pakistan cricket coach bob woolmer found dead hotel room jamaica day pakistan knocked world cup minnows ireland suspecting murder local authorities launched investigation death later ared woolmer died natural causes \n",
            "Original summary:  start yrs since pak coach found dead teams wc ouster end \n",
            "Predicted summary:   start pak captain found dead cricket cricket team end\n",
            "\n",
            "# 3 News:  speaking rape cases minors madhya pradesh chief minister shivraj singh chouhan said state become role model giving death sentence offenders added one hand hiring girls police department thempowerment dthemons taking birth rape innocent minor girls \n",
            "Original summary:  start mp role model dealing rape cases minors cm end \n",
            "Predicted summary:   start rape case filed cm yogi adityanath end\n",
            "\n",
            "# 4 News:  mit harvard university researchers developed origamiinspired artificial muscles strengthen soft robots allowing ththem lift objects times weight using air water pressure vacuumoperated muscle contract original size made less using materials like metal springs packing foam plastic sheets \n",
            "Original summary:  start artificial muscles help robot lift times weight end \n",
            "Predicted summary:   start ai startup makes ai ai detect detect ai made end\n",
            "\n",
            "# 5 News:  french pm edouard philippe spent aaa1 crore hiring private aircraft bring delegation back country official trip japan earlier month pm defended sion saying needed back country urgently president themmanuel macron leaving algeria \n",
            "Original summary:  start french pm spends aaa1 cr private flight official trip end \n",
            "Predicted summary:   start pm modis pay aaa1 crore foreign aid end\n",
            "\n",
            "# 6 News:  wikileaks urged us president donald trumps son donald trump jr make founder assange australian ambassador us trumps election revelation came details trump jrs communication wikileaks presidential election leaked wikileaks also requested trump jr release us presidents tax returns organisation \n",
            "Original summary:  start wikileaks urged trump jr make assange aus envoy us end \n",
            "Predicted summary:   start trump calls trumps tweet trumps tweet end\n",
            "\n",
            "# 7 News:  according reports actress deepika padukone replace priyanka chopra shah rukh khan starrer third film franchise sources said shah rukh spoke filmmaker farhan akhtar casting deepika film notably priyanka played fthemale lead first two films series \n",
            "Original summary:  start deepika replace priyanka srks reports end \n",
            "Predicted summary:   start priyanka star priyanka chopra star together report end\n",
            "\n",
            "# 8 News:  despite multiple hacking indictments details crore yahoo accounts sale internet aaa1 crore best offer according new york times report passwords accounts work dates birth telephone numbers security questions could used cyberthieves report added \n",
            "Original summary:  start crore yahoo accounts details sale aaa1 crore end \n",
            "Predicted summary:   start paytm cr hackers users account report end\n",
            "\n",
            "# 9 News:  yearold farmer maharashtra participated twoday kisan rally delhi dthemand loan waiver rthemunerative prices crop died accidentally fell building national capital rushed nearby hospital ared brought dead prima facie evidence reveals foul play police said \n",
            "Original summary:  start farmer part delhis kisan rally dies falling building end \n",
            "Predicted summary:   start man dies delhi farmers protest protest end\n",
            "\n",
            "# 10 News:  chandan prabhakar joked kapil sharmas brawl sunil grover flight returning australia kapils show episode promo chandan tells kapil australia kapil replies went australia response chandan says however everyone returned sunil shot show flight brawl \n",
            "Original summary:  start chandan jokes kapil sharmasunil grovers flight brawl end \n",
            "Predicted summary:   start kapil sharma show show show show show show end\n",
            "\n",
            "# 11 News:  indian domestic carriers scrapped flat aaa1 cancellation fee regulator dgca asked airlines provide data cancellation charges accordance dgca rules charges aaa1 base fare plus fuel surcharge per passenger whichever lower earlier union minister jayant sinha raised concern domestic cancellation fee extrthemely high \n",
            "Original summary:  start airlines drop flat aaa1 cancellation fee dgca notice end \n",
            "Predicted summary:   start railways fined aaa1 crore pilots pilots end\n",
            "\n",
            "# 12 News:  indian rowers sawarn singh dattu bhokanal om prakash sukhmeet singh friday mens quadruple sculls win indias fifth gold medal asian games medal second ever gold medal india rowing competition asian games history india total medals asiad \n",
            "Original summary:  start india win nd gold medal rowing asian games history end \n",
            "Predicted summary:   start indian womens team wins gold silver gold medal end\n",
            "\n",
            "# 13 News:  son vernon gonsalves one five activists arrested alleged maoist links today rejected charges father termed ththem lable said could stop ling police levelling false charges socalled letters police claimed conclusive proof including seized letters link arrested activists maoists \n",
            "Original summary:  start charges dad lable arrested activists son end \n",
            "Predicted summary:   start former arrested raping yrold woman arrested end\n",
            "\n",
            "# 14 News:  storyteller ankit chadha died age wednesday night drowned uksan lake near pune reportedly gone lake friend lost balance fell chadha known storytelling urdu city performance scheduled saturday \n",
            "Original summary:  start storyteller ankit chadha drowns lake near pune end \n",
            "Predicted summary:   start yearold actor dies mumbai dies aged end\n",
            "\n",
            "# 15 News:  finance minister arun jaitley denied government satisfied rbis functioning also quoted international monetary fund imf report said rbis supervision regulation strong improved recent years jaitley earlier admitted rbi government areas differences government initiated discussion address \n",
            "Original summary:  start dissatisfied functioning rbi arun jaitley end \n",
            "Predicted summary:   start govt jaitley jaitley jaitley jaitley jaitley end\n",
            "\n"
          ]
        }
      ],
      "source": [
        "# Testing on training data\n",
        "for i in range(0, 15):\n",
        "    print(f\"# {i+1} News: \", seq2text(x_train_padded[i]))\n",
        "    print(\"Original summary: \", seq2summary(y_train_padded[i]))\n",
        "    print(\n",
        "        \"Predicted summary: \",\n",
        "        decode_sequence_seq2seq_model(\n",
        "            x_train_padded[i].reshape(1, max_text_len), encoder_model,\n",
        "            decoder_model\n",
        "        )\n",
        "    )\n",
        "    print()"
      ]
    },
    {
      "cell_type": "markdown",
      "source": [
        "### Evaluation using rouge and bleu scores for summarization."
      ],
      "metadata": {
        "id": "Mf3Zv0c1dIPc"
      }
    },
    {
      "cell_type": "code",
      "source": [
        "pred_summaries_train = []\n",
        "true_summaries_train = []\n",
        "for i in range(1000):\n",
        "  actual_sent = ''\n",
        "  k = np.random.randint(len(input_tensor_val)) \n",
        "  pred_summaries_train.append(seq2summary(y_train_padded[k]))\n",
        "  true_summaries_train.append(decode_sequence_seq2seq_model(\n",
        "            x_train_padded[i].reshape(1, max_text_len), encoder_model,\n",
        "            decoder_model\n",
        "        ))"
      ],
      "metadata": {
        "id": "1quAiaebZPQG"
      },
      "execution_count": null,
      "outputs": []
    },
    {
      "cell_type": "code",
      "source": [
        "scores_train =  compute_rouge(pred_summaries_train, true_summaries_train)\n",
        "\n",
        "plot_scores(scores_train, '')\n"
      ],
      "metadata": {
        "colab": {
          "base_uri": "https://localhost:8080/",
          "height": 1000
        },
        "id": "xfJ9P4AoZsqC",
        "outputId": "cf9bdd62-357b-446e-8297-c367ac5fa2a0"
      },
      "execution_count": null,
      "outputs": [
        {
          "output_type": "display_data",
          "data": {
            "image/png": "[encoded data removed]",
            "text/plain": [
              "<Figure size 842.4x595.44 with 2 Axes>"
            ]
          },
          "metadata": {}
        },
        {
          "output_type": "display_data",
          "data": {
            "image/png": "[encoded data removed]",
            "text/plain": [
              "<Figure size 842.4x595.44 with 2 Axes>"
            ]
          },
          "metadata": {}
        }
      ]
    },
    {
      "cell_type": "markdown",
      "source": [
        "### Evaluations for summarization using bleu score"
      ],
      "metadata": {
        "id": "-8qgEO_wuJ8b"
      }
    },
    {
      "cell_type": "code",
      "source": [
        "scores_train =  compute_bleu(pred_summaries_train, true_summaries_train)\n",
        "\n",
        "plot_scores(scores_train, '', 'Bleu Score')"
      ],
      "metadata": {
        "id": "RDagOEPSuJVb",
        "colab": {
          "base_uri": "https://localhost:8080/",
          "height": 511
        },
        "outputId": "7b1864ba-056e-4162-c2f0-16adcd09b1ab"
      },
      "execution_count": null,
      "outputs": [
        {
          "output_type": "display_data",
          "data": {
            "image/png": "[encoded data removed]",
            "text/plain": [
              "<Figure size 842.4x595.44 with 2 Axes>"
            ]
          },
          "metadata": {}
        }
      ]
    }
  ],
  "metadata": {
    "accelerator": "GPU",
    "colab": {
      "collapsed_sections": [],
      "name": "Text translation and summarization.ipynb",
      "provenance": []
    },
    "kernelspec": {
      "display_name": "Python 3",
      "name": "python3"
    },
    "language_info": {
      "name": "python"
    }
  },
  "nbformat": 4,
  "nbformat_minor": 0
}